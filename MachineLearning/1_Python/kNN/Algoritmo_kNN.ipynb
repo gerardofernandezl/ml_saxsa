{
 "cells": [
  {
   "cell_type": "markdown",
   "metadata": {},
   "source": [
    "# kNN (k-nearest neighbors)\n",
    "\n",
    "<img src=\"kNN.png\"/>\n",
    "\n",
    "## Ventajas\n",
    "* Alta precisión\n",
    "* Insensible a valores atípicos\n",
    "* Sin suposiciones sobre datos\n",
    "\n",
    "## Desventajas\n",
    "* Computacionalmente caro\n",
    "* Requiere mucha memoria\n",
    "\n",
    "## Como funciona\n",
    "> Con un conjunto de datos etiquetados\n",
    "> que al recibir un dato sin etiqueta, se compara con los datos existentes, se\n",
    "> toman los datos mas similares (los vecinos mas cercanos) usualmente es menor a 20, de aqui es donde viene k\n",
    "> y se toman las etiquetas,\n",
    "> se hace un conteo de estas y la que tiene mayor aparición es la que se le asigna al nuevo dato"
   ]
  },
  {
   "cell_type": "code",
   "execution_count": null,
   "metadata": {},
   "outputs": [],
   "source": [
    "from numpy import * \n",
    "import operator"
   ]
  },
  {
   "cell_type": "code",
   "execution_count": null,
   "metadata": {},
   "outputs": [],
   "source": [
    "def classify0(inX, dataSet, labels, k):\n",
    "    #Calcula distancia del punta a todos los datos y los ordena de menor a mayor\n",
    "    dataSetSize = dataSet.shape[0]\n",
    "    diffMat = tile(inX, (dataSetSize,1)) - dataSet\n",
    "    sqDiffMat = diffMat**2\n",
    "    sqDistances = sqDiffMat.sum(axis=1)\n",
    "    distances = sqDistances**0.5\n",
    "    sortedDistIndicies = distances.argsort()\n",
    "    classCount={}\n",
    "    #Conteo de etiqutes y devuelve la etiqueta con mayor conteo\n",
    "    for i in range(k):\n",
    "        voteIlabel = labels[sortedDistIndicies[i]]\n",
    "        classCount[voteIlabel] = classCount.get(voteIlabel,0) + 1\n",
    "    sortedClassCount = sorted(classCount.items(), key=operator.itemgetter(1), reverse=True)\n",
    "    return sortedClassCount[0][0]"
   ]
  },
  {
   "cell_type": "markdown",
   "metadata": {},
   "source": [
    "# Ejemplo: Clasificación de películas\n",
    "\n",
    "Nombre Película | # de patadas | # de besos | Tipo de película\n",
    "-- | -- | -- | -- \n",
    "California Man | 3 | 104 | Romance\n",
    "He's Not Really into Dudes | 2 | 100 | Romance\n",
    "Beautiful Woman | 1 | 81 | Romance\n",
    "Kevin Longblade | 101 | 10 | Acción\n",
    "Robo Slayer 3000 | 99 | 5 | Acción\n",
    "Amped | 98 | 2 | Acción\n",
    "? | 18 | 90 | No sabemos \n",
    "\n"
   ]
  },
  {
   "cell_type": "code",
   "execution_count": null,
   "metadata": {},
   "outputs": [],
   "source": [
    "datos = array([[3, 104], [2, 100], [1, 81], [101, 10], [99, 5], [98, 2]])\n",
    "etiquetas = ['Romance', 'Romance', 'Romance', 'Acción', 'Acción', 'Acción']"
   ]
  },
  {
   "cell_type": "code",
   "execution_count": null,
   "metadata": {},
   "outputs": [],
   "source": [
    "classify0([18,90], datos, etiquetas, 5)"
   ]
  },
  {
   "cell_type": "markdown",
   "metadata": {},
   "source": [
    "### Distancia Euclidiana\n",
    "Recordemos que la distancia euclidiana de un punto $A=(x1,y1)$ a otro punto $B=(x2,y2)$ esta dada por\n",
    "\n",
    "$$d(A,B)=||A-B||=\\sqrt{(x1-y1)^2+(x2-y2)^2}$$"
   ]
  },
  {
   "cell_type": "markdown",
   "metadata": {},
   "source": [
    "# Ejemplo: Mejora de resultados de un sitio de citas \n",
    "\n",
    "Una persona ha estado usando algunos sitios de citas en línea para encontrar diferentes personas para salir. Se dio cuenta de que no le gustaba del todo las recomendaciones del sitio. Después de una cierta introspección, se dio cuenta de que había tres tipos de personas con las que salía:\n",
    "\n",
    "* Gente a la que no le gustaba\n",
    "* Gente a la que le gustaba en pequeñas dosis\n",
    "* Gente a la que le gustaba en grandes dosis\n",
    "\n",
    "Nos ha pedido que la ayudemos a filtrar futuros partidos para categorizarlos. Además, ha recopilado algunos datos que no están registrados por el sitio de citas, pero siente que es útil para seleccionar a la gente con la que sale.\n",
    "\n",
    "Los que ha recopilado se encuentran en un archivo de texto llamado datingTestSet.txt. Ha estado recopilando estos datos por un tiempo y tiene 1000 entradas. Se han registrado las características siguientes:\n",
    "\n",
    "* Número de millas de viajero frecuente ganadas por año\n",
    "* Porcentaje de tiempo dedicado a jugar videojuegos\n",
    "* Litros de helado consumido por semana"
   ]
  },
  {
   "cell_type": "code",
   "execution_count": null,
   "metadata": {},
   "outputs": [],
   "source": [
    "#Muestra del archivo de texto\n",
    "!head -4 datingTestSet.txt"
   ]
  },
  {
   "cell_type": "markdown",
   "metadata": {},
   "source": [
    "### Cambio de archivo a matriz\n",
    "Devuelve la matriz con los datos del archivo y el vector de etiquetas"
   ]
  },
  {
   "cell_type": "code",
   "execution_count": null,
   "metadata": {},
   "outputs": [],
   "source": [
    "def file2matrix(filename):\n",
    "    fr = open(filename)\n",
    "    numberOfLines = len(fr.readlines())         #Numero de lineas en el archivo                                                                                   \n",
    "    returnMat = zeros((numberOfLines,3))        #Inicializa la matriz a regresar                                                                                              \n",
    "    classLabelVector = []                       #Inicializa el vector de las etiquetas                                                                                                 \n",
    "    fr = open(filename)\n",
    "    index = 0\n",
    "    for line in fr.readlines():\n",
    "        line = line.strip()\n",
    "        listFromLine = line.split('\\t')\n",
    "        returnMat[index,:] = listFromLine[0:3]\n",
    "        classLabelVector.append(listFromLine[-1])\n",
    "        index += 1\n",
    "    return returnMat,classLabelVector"
   ]
  },
  {
   "cell_type": "code",
   "execution_count": null,
   "metadata": {},
   "outputs": [],
   "source": [
    "datosMatriz,datosEtiquetas = file2matrix('datingTestSet.txt')"
   ]
  },
  {
   "cell_type": "code",
   "execution_count": null,
   "metadata": {},
   "outputs": [],
   "source": [
    "datosMatriz"
   ]
  },
  {
   "cell_type": "markdown",
   "metadata": {},
   "source": [
    "### Visualización de los Datos "
   ]
  },
  {
   "cell_type": "code",
   "execution_count": null,
   "metadata": {},
   "outputs": [],
   "source": [
    "from bokeh.io import output_notebook\n",
    "output_notebook()"
   ]
  },
  {
   "cell_type": "code",
   "execution_count": null,
   "metadata": {},
   "outputs": [],
   "source": [
    "from bokeh.plotting import figure, show\n",
    "\n",
    "colormap = {'didntLike': 'red', 'smallDoses': 'green', 'largeDoses': 'blue'}\n",
    "colors = [colormap[x] for x in datosEtiquetas]\n",
    "\n",
    "p = figure(title = \"Visualización de datos\")\n",
    "p.xaxis.axis_label = 'Millas de viajero frecuente'\n",
    "p.yaxis.axis_label = 'Porcentaje dedicado a videojuegos'\n",
    "\n",
    "p.circle(datosMatriz[:,0], datosMatriz[:,1],\n",
    "         color=colors, fill_alpha=0.2, size=10)\n",
    "\n",
    "show(p)"
   ]
  },
  {
   "cell_type": "markdown",
   "metadata": {},
   "source": [
    "### Normalizar Datos"
   ]
  },
  {
   "cell_type": "code",
   "execution_count": null,
   "metadata": {},
   "outputs": [],
   "source": [
    "def autoNorm(dataSet):\n",
    "    minVals = dataSet.min(0)\n",
    "    maxVals = dataSet.max(0)\n",
    "    ranges = maxVals - minVals\n",
    "    normDataSet = zeros(shape(dataSet))\n",
    "    m = dataSet.shape[0]\n",
    "    normDataSet = dataSet - tile(minVals, (m,1))\n",
    "    normDataSet = normDataSet/tile(ranges, (m,1))   #element wise divide                                                                                               \n",
    "    return normDataSet, ranges, minVals"
   ]
  },
  {
   "cell_type": "code",
   "execution_count": null,
   "metadata": {},
   "outputs": [],
   "source": [
    "normMat, ranges, minVals = autoNorm(datosMatriz)\n"
   ]
  },
  {
   "cell_type": "code",
   "execution_count": null,
   "metadata": {},
   "outputs": [],
   "source": [
    "normMat"
   ]
  },
  {
   "cell_type": "markdown",
   "metadata": {},
   "source": [
    "### Evaluación de precisión del algoritmo \n",
    "Vamos a medir el rendimiento del clasificador con la tasa de error, donde la tasa de error es el número de datos mal clasificadas dividido por el número total de datos probados.\n",
    "Una tasa de error de 0 significa que tiene un clasificador perfecto, y una tasa de error de 1,0 significa que el clasificador siempre es incorrecto."
   ]
  },
  {
   "cell_type": "code",
   "execution_count": null,
   "metadata": {},
   "outputs": [],
   "source": [
    "def datingClassTest():\n",
    "    hoRatio = 0.50      #hold out 10%                                                                                                                                  \n",
    "    datingDataMat,datingLabels = file2matrix('datingTestSet2.txt')       #load data setfrom file                                                                       \n",
    "    normMat, ranges, minVals = autoNorm(datingDataMat)\n",
    "    m = normMat.shape[0]\n",
    "    numTestVecs = int(m*hoRatio)\n",
    "    errorCount = 0.0\n",
    "    for i in range(numTestVecs):\n",
    "        classifierResult = classify0(normMat[i,:],normMat[numTestVecs:m,:],datingLabels[numTestVecs:m],9)\n",
    "        print(\"the classifier came back with: %s, the real answer is: %s\" % (classifierResult, datingLabels[i]))\n",
    "        if (classifierResult != datingLabels[i]): errorCount += 1.0\n",
    "    print(\"the total error rate is: %f\" % (errorCount/float(numTestVecs)))\n",
    "    print(errorCount)"
   ]
  },
  {
   "cell_type": "code",
   "execution_count": null,
   "metadata": {},
   "outputs": [],
   "source": [
    "datingClassTest()"
   ]
  },
  {
   "cell_type": "markdown",
   "metadata": {},
   "source": [
    "# Uso de un clasificador"
   ]
  },
  {
   "cell_type": "code",
   "execution_count": null,
   "metadata": {},
   "outputs": [],
   "source": [
    "def classifyPerson():\n",
    "    percentTats = float(input(\"¿Porcentaje de tiempo dedicado a jugar juegos de video?\"))\n",
    "    ffMiles = float(input(\"¿Millas de viajero frecuente ganadas por año?\"))\n",
    "    iceCream = float(input(\"¿Litros de helado consumido por semana?\"))\n",
    "    DataMat,Labels = file2matrix('datingTestSet.txt')\n",
    "    normaMat, rangos, minimosVals = autoNorm(DataMat)\n",
    "    inArr = array([ffMiles, percentTats, iceCream])\n",
    "    classifierResult = classify0((inArr-minimosVals)/rangos,normaMat,Labels,3)\n",
    "    print (\"You will probably like this person: \" + classifierResult)\n",
    "    \n"
   ]
  },
  {
   "cell_type": "code",
   "execution_count": null,
   "metadata": {},
   "outputs": [],
   "source": [
    "classifyPerson()"
   ]
  },
  {
   "cell_type": "code",
   "execution_count": null,
   "metadata": {},
   "outputs": [],
   "source": []
  }
 ],
 "metadata": {
  "kernelspec": {
   "display_name": "Python 3",
   "language": "python",
   "name": "python3"
  },
  "language_info": {
   "codemirror_mode": {
    "name": "ipython",
    "version": 3
   },
   "file_extension": ".py",
   "mimetype": "text/x-python",
   "name": "python",
   "nbconvert_exporter": "python",
   "pygments_lexer": "ipython3",
   "version": "3.6.6"
  }
 },
 "nbformat": 4,
 "nbformat_minor": 2
}
