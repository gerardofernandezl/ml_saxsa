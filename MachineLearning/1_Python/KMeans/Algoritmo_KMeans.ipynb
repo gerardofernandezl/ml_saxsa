{
 "cells": [
  {
   "cell_type": "markdown",
   "metadata": {},
   "source": [
    "##### Titulo: Algoritmo no supervisado K-Means\n",
    "#####  Autor: Dr. Gabriel Guerrero\n",
    "##### Fecha: 20190704\n",
    "\n",
    "\n",
    "\n",
    "## ¿Qué es?\n",
    "**K-Means** es un algoritmo no supervisado de clasificación (clusterización).\n",
    "\n",
    "K-Means es un algoritmo que encuentra k-grupos (k-clusters) en un conjunto de datos de forma automatica, \n",
    "\n",
    "El número de k de clusters o agrupaciones se define al inicio. \n",
    "\n",
    "Cada cluster o agrupación se describe por medio de un punto denominado **centroide**\n",
    "\n",
    "El centroide se encuentra en el centro de todos los puntos del cluster\n",
    "\n",
    "Este algoritmo agrupa objetos en k grupos basándose en la similitud de sus características, es decir que tan semejantes son, según la noción de distancia \n",
    "\n",
    "Con el algoritmo K-Means no supervisado de clasificacion se intenta agrupar cosas similares en un cluster y cosas diferentes en otros clusters \n",
    "\n",
    "El agrupamiento se realiza minimizando la suma de distancias entre cada objeto y el centroide de su grupo o cluster. \n",
    "\n",
    "Generalmente se suele usar la distancia cuadrática.\n",
    "\n",
    "## ¿Cómo funciona?\n",
    "\n",
    "\n",
    "Primero se selecciona al azar k-puntos del conjunto de datos (dataset), que se denominan los k-centroides iniciales\n",
    "\n",
    "Enseguida, para cada punto del conjunto de datos, se busca el k-centroide mas cercano y se asigna el punto a ese cluster.\n",
    "\n",
    "Una vez que hemos asignado todos los puntos del conjunto de datos a un cluster, para los puntos del cluster se saca el valor medio y este valor medio se define como el centroide.\n",
    "\n",
    "\n",
    "\n",
    "El algoritmo consta de tres pasos:\n",
    "\n",
    "- **Inicialización**: una vez escogido el número de grupos, k, se establecen k centroides en el espacio de los datos, por ejemplo, escogiéndolos aleatoriamente.\n",
    "- **Asignación objetos a los centroides**: cada objeto de los datos es asignado a su centroide más cercano.\n",
    "- **Actualización centroides**: se actualiza la posición del centroide de cada grupo tomando como nuevo centroide la posición del promedio de los objetos pertenecientes a dicho grupo.\n",
    "\n",
    "Se repiten los pasos 2 y 3 hasta que los centroides no se mueven, o se mueven por debajo de una distancia umbral en cada paso.\n",
    "\n",
    " <img src=\"kmeans1.png\"/>\n",
    "\n",
    "\n",
    "## Ventajas\n",
    "\n",
    "- Es un método sencillo y rápido. Pero es necesario decidir el valor de k y el resultado final depende de la inicialización de los centroides. En principio no converge al mínimo global sino a un mínimo local.\n"
   ]
  },
  {
   "cell_type": "code",
   "execution_count": null,
   "metadata": {},
   "outputs": [],
   "source": [
    "\n",
    "#Importar bibliotecas\n",
    "import numpy as np\n",
    "import pandas as pd\n",
    "import matplotlib.pyplot as plt\n",
    "import seaborn as sns\n",
    "from sklearn.preprocessing import StandardScaler\n",
    "from sklearn.cluster import KMeans"
   ]
  },
  {
   "cell_type": "code",
   "execution_count": null,
   "metadata": {},
   "outputs": [],
   "source": [
    "!head -3 pokemon.csv"
   ]
  },
  {
   "cell_type": "code",
   "execution_count": null,
   "metadata": {},
   "outputs": [],
   "source": [
    "#Leer el archivo pokemon.csv\n",
    "dfPokemon = pd.read_csv('pokemon.csv')\n",
    "dfPokemon.sample(10) #Tomar una muestra aleatoria de 10 entradas "
   ]
  },
  {
   "cell_type": "code",
   "execution_count": null,
   "metadata": {},
   "outputs": [],
   "source": [
    "#Mostramos el tipo de entrada de cada columna\n",
    "dfPokemon.info()"
   ]
  },
  {
   "cell_type": "code",
   "execution_count": null,
   "metadata": {},
   "outputs": [],
   "source": [
    "# Llenamos los campos nulos de la columna 'Type 2' con el valor 'No_Tiene'\n",
    "dfPokemon['Type 2'] = dfPokemon['Type 2'].fillna('No_Tiene')\n",
    "dfPokemon.sample(10)"
   ]
  },
  {
   "cell_type": "code",
   "execution_count": null,
   "metadata": {},
   "outputs": [],
   "source": [
    "#Construimos un nuevo DataFrame usando las columnas 'Attack', 'Defense' y 'Speed'\n",
    "pokecar = dfPokemon[['HP','Attack', 'Defense', 'Speed']]\n",
    "pokecar.sample(10)"
   ]
  },
  {
   "cell_type": "code",
   "execution_count": null,
   "metadata": {},
   "outputs": [],
   "source": [
    "#Normalizamos los datos\n",
    "sc_X = StandardScaler()\n",
    "dataset_num = sc_X.fit_transform(pokecar)\n",
    "datosestandar = pd.DataFrame(dataset_num, columns=['HP','Attack', 'Defense', 'Speed'])\n",
    "datosestandar.sample(10)\n"
   ]
  },
  {
   "cell_type": "markdown",
   "metadata": {},
   "source": [
    "## Elección del número de clusters\n",
    "Aunque no exista un criterio para la selección del número de Clusters, existen diferentes métodos que nos ayudan a elegir un número apropiado de Clusters para agrupar los datos; uno de ellos es el ** método del codo (Elbow Method)**.\n",
    "\n",
    "Este método utiliza los valores de la inercia obtenidos tras aplicar el K-means a diferente número de Clusters (desde 1 a N Clusters), siendo la inercia la suma de las distancias al cuadrado de cada objeto del Cluster a su centroide: \n",
    "\n",
    "$$ Inercia = \\displaystyle \\sum_1^N ||x_i - \\mu||^2$$\n",
    "\n",
    "Una vez obtenidos los valores de la inercia tras aplicar el K-means de 1 a N Clusters, representamos en una gráfica lineal la inercia respecto del número de Clusters. \n",
    "\n",
    "En esta gráfica se debería de apreciar un cambio brusco en la evolución de la inercia, teniendo la línea representada una forma similar a la de un brazo y su codo. \n",
    "\n",
    "El punto en el que se observa ese cambio brusco en la inercia nos dirá el número óptimo de Clusters a seleccionar para ese data set; o dicho de otra manera: el punto que representaría al codo del brazo será el número óptimo de Clusters para ese data set. \n"
   ]
  },
  {
   "cell_type": "code",
   "execution_count": null,
   "metadata": {},
   "outputs": [],
   "source": [
    "#Aplicamos el \"método del codo\" que nos dará una aproximación del número de clústers  \n",
    "\n",
    "wcss = []\n",
    "for i in range(1, 10):\n",
    "    kmeans = KMeans(n_clusters = i, init = 'k-means++', random_state = 42)\n",
    "    kmeans.fit(datosestandar)\n",
    "    wcss.append(kmeans.inertia_)\n",
    "plt.plot(range(1, 10), wcss)\n",
    "plt.title('El método del Codo')\n",
    "plt.xlabel('Número de clústers')\n",
    "plt.ylabel('WCSS')\n",
    "plt.xticks(np.arange(1, 10, 1.0))\n",
    "plt.grid(which='major', axis='x')\n",
    "plt.show()"
   ]
  },
  {
   "cell_type": "code",
   "execution_count": null,
   "metadata": {},
   "outputs": [],
   "source": [
    "#Aplicamos el algoritmo con 2 clústers\n",
    "kmeans = KMeans(n_clusters = 2, init = 'k-means++', random_state = 42)"
   ]
  },
  {
   "cell_type": "code",
   "execution_count": null,
   "metadata": {},
   "outputs": [],
   "source": [
    "#Calculamos las etiquetas de cada entrada\n",
    "y_kmeans = kmeans.fit_predict(datosestandar)\n",
    "y_kmeans"
   ]
  },
  {
   "cell_type": "code",
   "execution_count": null,
   "metadata": {},
   "outputs": [],
   "source": [
    "#Agregamos la columna de etiquetas a nuestro DataFrame\n",
    "dfPokemon['numCluster'] = y_kmeans\n",
    "dfPokemon.sample(10)"
   ]
  },
  {
   "cell_type": "code",
   "execution_count": null,
   "metadata": {
    "scrolled": true
   },
   "outputs": [],
   "source": [
    "#Graficamos los clusters en una gráfica de violín\n",
    "sns.violinplot(x='numCluster', y='Total', data=dfPokemon)\n",
    "plt.show()"
   ]
  },
  {
   "cell_type": "code",
   "execution_count": null,
   "metadata": {},
   "outputs": [],
   "source": [
    "# Distribución según defensa\n",
    "sns.violinplot(x='numCluster', y='Defense', data=dfPokemon)\n",
    "plt.show()"
   ]
  },
  {
   "cell_type": "code",
   "execution_count": null,
   "metadata": {},
   "outputs": [],
   "source": [
    "dfPokemon.sort_values('Defense', axis=0, ascending=False).head(20)"
   ]
  },
  {
   "cell_type": "code",
   "execution_count": null,
   "metadata": {},
   "outputs": [],
   "source": [
    "# Distribución según velocidad\n",
    "sns.violinplot(x='numCluster', y='Speed', data=dfPokemon)\n",
    "plt.show()"
   ]
  },
  {
   "cell_type": "code",
   "execution_count": null,
   "metadata": {},
   "outputs": [],
   "source": [
    "dfPokemon.sort_values('Speed', axis=0, ascending=False).head(20)"
   ]
  },
  {
   "cell_type": "code",
   "execution_count": null,
   "metadata": {},
   "outputs": [],
   "source": [
    "# Distribución según ataque\n",
    "\n",
    "sns.violinplot(x='numCluster', y='Attack', data=dfPokemon)\n",
    "plt.show()"
   ]
  },
  {
   "cell_type": "code",
   "execution_count": null,
   "metadata": {},
   "outputs": [],
   "source": [
    "dfPokemon.sort_values('Attack', axis=0, ascending=False).head(20)"
   ]
  },
  {
   "cell_type": "code",
   "execution_count": null,
   "metadata": {},
   "outputs": [],
   "source": [
    "sns.violinplot(x='numCluster', y='HP', data=dfPokemon)\n",
    "plt.show()"
   ]
  },
  {
   "cell_type": "code",
   "execution_count": null,
   "metadata": {},
   "outputs": [],
   "source": [
    "dfPokemon.sort_values('HP', axis=0, ascending=False).head(20)"
   ]
  },
  {
   "cell_type": "code",
   "execution_count": null,
   "metadata": {},
   "outputs": [],
   "source": [
    "dfPokemon[dfPokemon['numCluster'] == 1]"
   ]
  },
  {
   "cell_type": "code",
   "execution_count": null,
   "metadata": {},
   "outputs": [],
   "source": [
    "#Predicción usando algoritmo kmeans\n",
    "kmeans.predict([[20,23, 56, 89], [0,100, 40, 55]])"
   ]
  }
 ],
 "metadata": {
  "kernelspec": {
   "display_name": "Python 3",
   "language": "python",
   "name": "python3"
  },
  "language_info": {
   "codemirror_mode": {
    "name": "ipython",
    "version": 3
   },
   "file_extension": ".py",
   "mimetype": "text/x-python",
   "name": "python",
   "nbconvert_exporter": "python",
   "pygments_lexer": "ipython3",
   "version": "3.6.6"
  }
 },
 "nbformat": 4,
 "nbformat_minor": 2
}
