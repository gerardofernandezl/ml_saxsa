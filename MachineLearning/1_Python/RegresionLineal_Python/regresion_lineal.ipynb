{
 "cells": [
  {
   "cell_type": "markdown",
   "metadata": {},
   "source": [
    "##### Titulo: Regresión lineal\n",
    "##### Autor: Dr. Gabriel Guerrero\n",
    "##### Fecha: 20190704\n",
    "\n",
    "La regresion lineal es uno de los metodos mas utilizados en la prediccion numerica\n",
    "\n",
    "Supongamos que tenemos una sola caracteristica y para cada una un valor\n",
    "\n",
    "La idea es encontrar la ecuacion de la recta, su pendiente y ordenada al origen, que mejor aproxima a todos los valores\n",
    "\n",
    "La idea de \"mejor aproxima\" se define como la suma del cuadrado de cada uno de los errores \n",
    "\n",
    "El error de calculo en cada punto es (yi -xiw)**2 \n",
    "\n",
    "\n",
    "Dado un conjunto de valores (x1, y1) ..., (xm, ym) \n"
   ]
  },
  {
   "cell_type": "markdown",
   "metadata": {},
   "source": [
    "# Regresión Lineal\n",
    " \n",
    "![Reg](reglin.jpg)\n",
    "\n",
    "Nuestro objetivo al utilizar la regresión es predecir un valor objetivo, numérico. Una forma de hacerlo es escribir una ecuación para el valor objetivo, con respecto a las demas entradas.\n",
    "\n",
    "** Ventajas: ** resultados fáciles de interpretar y computacionalmente económico.\n",
    "\n",
    "** Desventajas: ** modeliza mal los datos no lineales.\n",
    "\n",
    "** Necesita: ** valores numéricos, valor nominal.\n",
    "\n"
   ]
  },
  {
   "cell_type": "markdown",
   "metadata": {},
   "source": [
    "## Se importan las bibliotecas "
   ]
  },
  {
   "cell_type": "code",
   "execution_count": null,
   "metadata": {},
   "outputs": [],
   "source": [
    "from numpy import *\n",
    "import matplotlib.pyplot as plt\n",
    "% matplotlib notebook"
   ]
  },
  {
   "cell_type": "markdown",
   "metadata": {},
   "source": [
    "Para desplegar el contenido de un archivo se antepone el comando mágico \"!\" que ejecuta comandos de shell.\n",
    "\n",
    "En este caso se visualizan los primeros 10 registros del archivo ex0.txt. "
   ]
  },
  {
   "cell_type": "code",
   "execution_count": null,
   "metadata": {},
   "outputs": [],
   "source": [
    "! head -10 ex0.txt"
   ]
  },
  {
   "cell_type": "markdown",
   "metadata": {},
   "source": [
    "La distribución gráfica de los datos es la siguiente:\n",
    "![distr](Distribucion_ex0.png)\n",
    "\n",
    "Se busca encontrar la recta que mejor se ajuste a estos datos haciendo uso de una regresión lineal\n",
    "![recta](recta.png)\n",
    "\n"
   ]
  },
  {
   "cell_type": "markdown",
   "metadata": {},
   "source": [
    "### Para poder realizar lo anterior se definen un par de funciones para trabajar con nuestros datos:\n",
    "\n",
    "Se define una función que lee el archivo y que devuelva un par de listas."
   ]
  },
  {
   "cell_type": "code",
   "execution_count": null,
   "metadata": {},
   "outputs": [],
   "source": [
    "def loadDataSet(fileName):\n",
    "    numFeat = len(open(fileName).readline().split('\\t')) - 1  \n",
    "    dataMat = []; labelMat = []\n",
    "    fr = open(fileName)\n",
    "    for line in fr.readlines():\n",
    "        lineArr =[]\n",
    "        curLine = line.strip().split('\\t')\n",
    "        for i in range(numFeat):\n",
    "            lineArr.append(float(curLine[i]))\n",
    "        dataMat.append(lineArr)\n",
    "        labelMat.append(float(curLine[-1]))\n",
    "    return dataMat,labelMat"
   ]
  },
  {
   "cell_type": "markdown",
   "metadata": {},
   "source": [
    "Se define otra función que calcula la línea que mejor se ajusta a los datos (se programa la regresión lineal).\n",
    "\n",
    "Esta función recibe como parámetros un par de listas y devuelve la pendiente y la ordenada al origen (las betas) de la recta que mejor se aproxima a la distribución de los datos."
   ]
  },
  {
   "cell_type": "code",
   "execution_count": null,
   "metadata": {},
   "outputs": [],
   "source": [
    "def standRegres(xArr,yArr):\n",
    "    xMat = mat(xArr); yMat = mat(yArr).T\n",
    "    xTx = xMat.T*xMat\n",
    "    if linalg.det(xTx) == 0.0:\n",
    "        print (\"La matriz no tiene inversa\")\n",
    "        return\n",
    "    ws = xTx.I * (xMat.T*yMat)\n",
    "    return ws"
   ]
  },
  {
   "cell_type": "markdown",
   "metadata": {},
   "source": [
    "## Aplicamos la primera función a nuestro archivo"
   ]
  },
  {
   "cell_type": "code",
   "execution_count": null,
   "metadata": {},
   "outputs": [],
   "source": [
    "xArr,yArr = loadDataSet('ex0.txt')"
   ]
  },
  {
   "cell_type": "markdown",
   "metadata": {},
   "source": [
    "Obtenemos las listas xArr y yArr.\n",
    "\n",
    "Para visualizar los primeros 'n' elementos de una lista 'lista' se utiliza la notación lista[:n]. En este caso visualizamos los primeros 5 lementos de la lista xArr y de yArr."
   ]
  },
  {
   "cell_type": "code",
   "execution_count": null,
   "metadata": {},
   "outputs": [],
   "source": [
    "xArr[:5]"
   ]
  },
  {
   "cell_type": "code",
   "execution_count": null,
   "metadata": {},
   "outputs": [],
   "source": [
    "yArr[:5]"
   ]
  },
  {
   "cell_type": "markdown",
   "metadata": {},
   "source": [
    "Se hace una lista que contenga el segundo elemento de cada 'sub lista' de xArr."
   ]
  },
  {
   "cell_type": "code",
   "execution_count": null,
   "metadata": {},
   "outputs": [],
   "source": [
    "df = [x[1] for x in xArr]"
   ]
  },
  {
   "cell_type": "markdown",
   "metadata": {},
   "source": [
    "Se muestran los primeros 5 elementos de df."
   ]
  },
  {
   "cell_type": "code",
   "execution_count": null,
   "metadata": {},
   "outputs": [],
   "source": [
    "df[:5]"
   ]
  },
  {
   "cell_type": "markdown",
   "metadata": {},
   "source": [
    "## Se obtiene gráfica de la distribución de los datos usando matplotlib "
   ]
  },
  {
   "cell_type": "code",
   "execution_count": null,
   "metadata": {},
   "outputs": [],
   "source": [
    "fig, ax = plt.subplots()\n",
    "ax.plot(df, yArr, '.')\n",
    "ax.set_title('Datos del archivo ex0.txt')\n",
    "plt.show()"
   ]
  },
  {
   "cell_type": "markdown",
   "metadata": {},
   "source": [
    "### Encontramos las betas da la ecuación\n",
    "\n",
    "Es decir buscamos la pendiente y la ordenada al origen de la recta que mejor se aproxima a la distribución de los datos "
   ]
  },
  {
   "cell_type": "code",
   "execution_count": null,
   "metadata": {},
   "outputs": [],
   "source": [
    "ws = standRegres(xArr, yArr)\n",
    "ws"
   ]
  },
  {
   "cell_type": "markdown",
   "metadata": {},
   "source": [
    "Se encuentran los valores que toma \"y\" en función de los datos que se tienen en \"x\""
   ]
  },
  {
   "cell_type": "code",
   "execution_count": null,
   "metadata": {},
   "outputs": [],
   "source": [
    "xMat = mat(xArr)\n",
    "yMat = mat(yArr)\n",
    "yHat = xMat * ws\n",
    "yHat"
   ]
  },
  {
   "cell_type": "markdown",
   "metadata": {},
   "source": [
    "## Se visualiza la recta haciendo uso de matplotlib"
   ]
  },
  {
   "cell_type": "code",
   "execution_count": null,
   "metadata": {},
   "outputs": [],
   "source": [
    "fig = plt.figure()\n",
    "ax = fig.add_subplot(111)\n",
    "ax.scatter(xMat[:,1].flatten().A[0], yMat.T[:,0].flatten().A[0], marker='.') \n",
    "xMat.sort(0)\n",
    "yHat = xMat*ws\n",
    "ax.plot(xMat[:,1],yHat, 'red')\n",
    "plt.show()"
   ]
  },
  {
   "cell_type": "code",
   "execution_count": null,
   "metadata": {},
   "outputs": [],
   "source": []
  }
 ],
 "metadata": {
  "kernelspec": {
   "display_name": "Python 3",
   "language": "python",
   "name": "python3"
  },
  "language_info": {
   "codemirror_mode": {
    "name": "ipython",
    "version": 3
   },
   "file_extension": ".py",
   "mimetype": "text/x-python",
   "name": "python",
   "nbconvert_exporter": "python",
   "pygments_lexer": "ipython3",
   "version": "3.6.6"
  }
 },
 "nbformat": 4,
 "nbformat_minor": 2
}
