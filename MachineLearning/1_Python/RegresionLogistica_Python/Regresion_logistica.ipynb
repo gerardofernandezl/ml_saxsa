{
 "cells": [
  {
   "cell_type": "markdown",
   "metadata": {},
   "source": [
    "# Regresión Logística\n",
    "\n",
    "## ¿Qué es?\n",
    "La Regresión Logística es un **Algoritmo Supervisado** para **clasificación**.\n",
    "\n",
    "Se cuenta con datos históricos en donde ya conocemos el tipo de clasificación que tiene.\n",
    "\n",
    "Enseguida se desea crear un modelo que permita clasificar datos aun sin clasificar, en uno de varios posibles estados. \n",
    "\n",
    "Si la respuesta de la clasificación, por ejemplo es  “SI/NO”, este es un caso de  **clasificación binaria** \n",
    "\n",
    "Si la respuesta tiene mas posibilidades de clasificación, este es un caso de **clasificación múltiple**\n",
    "\n",
    "Algunos ejemplos de Regresión Logística son:\n",
    "\n",
    "- Clasificar si el correo que llega es Spam o No es Spam\n",
    "- Dados unos resultados clínicos de un tumor, clasificar en “Benigno” o “Maligno”.\n",
    "- El texto de un artículo a analizar es: Entretenimiento, Deportes, Política ó Ciencia\n",
    "- A partir de historial bancario conceder un crédito o no\n",
    "\n",
    "## ¿Cómo funciona?\n",
    "Es una técnica multivariante de dependencia ya que trata de estimar la probabilidad de que ocurra un suceso en función de la dependencia de otras variables.\n",
    "\n",
    "Si tenemos un conjunto de variables independientes $$ X_1\n",
    ", X_2\n",
    ",...,X_p $$\n",
    "que nos clasifican a los *n* sujetos trataremos de saber a cual de las dos categorías de \n",
    "la variable *Y* pertenece. La probabilidad de  que un sujeto *«i»* pertenezca a una de ellas será la  combinación lineal \n",
    "$$ Z= b_1x_1\n",
    "+b_2x_2+...+b_px_p\n",
    "+ b_0$$\n",
    "y será igual a:\n",
    "$$p_i=\\frac{e^z}{1+e^z}=\\frac{1}{1+e^{-z}}$$\n",
    "\n",
    "Si la probabilidad *p* de que el sujeto este encuadrado en esa categoría es **mayor que 0,5** se le asigna, si es menor se le asignará la otra categoría."
   ]
  },
  {
   "cell_type": "markdown",
   "metadata": {},
   "source": [
    "## Ejercicio\n",
    "\n",
    "Para este ejercicio se ha creado un archivo cvs con datos de entrada a modo de ejemplo para clasificar si el usuario que visita un sitio web usa como sistema operativo Windows, Macintosh o Linux.\n",
    "\n",
    "Nuestra información de entrada son 4 características que tomadas de una web que utiliza Google Analytics y son:\n",
    "\n",
    "   - Duración de la visita en Segundos\n",
    "   - Cantidad de Páginas Vistas durante la Sesión\n",
    "   - Cantidad de Acciones del usuario (click, scroll, uso de checkbox, sliders,etc)\n",
    "   - Suma del Valor de las acciones (cada acción lleva asociada una valoración de importancia)\n"
   ]
  },
  {
   "cell_type": "code",
   "execution_count": null,
   "metadata": {},
   "outputs": [],
   "source": [
    "#Importamos bibliotecas necesarias\n",
    "import pandas as pd\n",
    "import numpy as np\n",
    "from sklearn import linear_model\n",
    "from sklearn import model_selection\n",
    "from sklearn.metrics import classification_report\n",
    "from sklearn.metrics import confusion_matrix\n",
    "from sklearn.metrics import accuracy_score\n",
    "import matplotlib.pyplot as plt\n",
    "import seaborn as sb\n",
    "%matplotlib inline"
   ]
  },
  {
   "cell_type": "markdown",
   "metadata": {},
   "source": [
    "## Cargamos los datos de entrada del archivo csv"
   ]
  },
  {
   "cell_type": "code",
   "execution_count": null,
   "metadata": {},
   "outputs": [],
   "source": [
    "#Cargamos los datos de entrada y visualizamos una muesta de su cotenido\n",
    "dataframe = pd.read_csv(\"usuarios_win_mac_lin.csv\")\n",
    "dataframe"
   ]
  },
  {
   "cell_type": "code",
   "execution_count": null,
   "metadata": {},
   "outputs": [],
   "source": [
    "#Mostramos información estadística básica de nuestro dataframe\n",
    "dataframe.describe()"
   ]
  },
  {
   "cell_type": "code",
   "execution_count": null,
   "metadata": {},
   "outputs": [],
   "source": [
    "#Agrupamos por clase\n",
    "print(dataframe.groupby('clase').size())"
   ]
  },
  {
   "cell_type": "markdown",
   "metadata": {},
   "source": [
    "## Visualizar frecuencias de datos por campo\n",
    "\n",
    "Primero visualizamos en formato de historial los cuatro Features de entrada con nombres “duración”, “páginas”,”acciones” y “valor” \n",
    "\n",
    "Analizamos gráficamente valores mínimos y máximos, asi como intervalos donde se concentran la mayor densidad de registros."
   ]
  },
  {
   "cell_type": "code",
   "execution_count": null,
   "metadata": {
    "scrolled": true
   },
   "outputs": [],
   "source": [
    "dataframe.drop(['clase'],1).hist()\n",
    "\n",
    "plt.show()"
   ]
  },
  {
   "cell_type": "markdown",
   "metadata": {},
   "source": [
    "## Creamos el modelo"
   ]
  },
  {
   "cell_type": "code",
   "execution_count": null,
   "metadata": {},
   "outputs": [],
   "source": [
    "#Separamos los datos en dos conjuntos\n",
    "## Conjunto: entradas \n",
    "## Conjunto: etiquetas y lo guardamos en dos arreglos diferentes\n",
    "X = np.array(dataframe.drop(['clase'],1))\n",
    "X"
   ]
  },
  {
   "cell_type": "code",
   "execution_count": null,
   "metadata": {},
   "outputs": [],
   "source": [
    "y = np.array(dataframe['clase'])\n",
    "y"
   ]
  },
  {
   "cell_type": "code",
   "execution_count": null,
   "metadata": {},
   "outputs": [],
   "source": [
    "#Calculamos la dimensión de X\n",
    "X.shape"
   ]
  },
  {
   "cell_type": "code",
   "execution_count": null,
   "metadata": {},
   "outputs": [],
   "source": [
    "#Aplicamos el modelo \n",
    "model = linear_model.LogisticRegression()\n",
    "model.fit(X,y)"
   ]
  },
  {
   "cell_type": "code",
   "execution_count": null,
   "metadata": {
    "scrolled": true
   },
   "outputs": [],
   "source": [
    "#imprimimos las predicciones del modelo (en este caso coinciden con los valores reales)\n",
    "predictions = model.predict(X)\n",
    "X[0:5]"
   ]
  },
  {
   "cell_type": "code",
   "execution_count": null,
   "metadata": {},
   "outputs": [],
   "source": [
    "y[0:5]"
   ]
  },
  {
   "cell_type": "code",
   "execution_count": null,
   "metadata": {},
   "outputs": [],
   "source": [
    "print(predictions[0:5])"
   ]
  },
  {
   "cell_type": "code",
   "execution_count": null,
   "metadata": {},
   "outputs": [],
   "source": [
    "#model.score() que nos devuelve la precisión media de las predicciones\n",
    "model.score(X,y)"
   ]
  },
  {
   "cell_type": "markdown",
   "metadata": {},
   "source": [
    "# Validación del Modelo"
   ]
  },
  {
   "cell_type": "code",
   "execution_count": null,
   "metadata": {},
   "outputs": [],
   "source": [
    "#Subdividimos nuestros datos de entrada en forma aleatoria utilizando 80% de registros \n",
    "#para entrenamiento y 20% para validar.\n",
    "validation_size = 0.20\n",
    "seed = 7\n",
    "X_train, X_validation, Y_train, Y_validation = model_selection.train_test_split(X, y, test_size=validation_size, random_state=seed)"
   ]
  },
  {
   "cell_type": "code",
   "execution_count": null,
   "metadata": {},
   "outputs": [],
   "source": [
    "# Calculamos la eficiencia del modelo usando cross validation\n",
    "name='Regresión logística'\n",
    "kfold = model_selection.KFold(n_splits=10, random_state=seed)\n",
    "cv_results = model_selection.cross_val_score(model, X_train, Y_train, cv=kfold, scoring='accuracy')\n",
    "msg = \"%s: %f \" % (name, cv_results.mean())\n",
    "print(msg)"
   ]
  },
  {
   "cell_type": "code",
   "execution_count": null,
   "metadata": {},
   "outputs": [],
   "source": [
    "Y_validation"
   ]
  },
  {
   "cell_type": "code",
   "execution_count": null,
   "metadata": {},
   "outputs": [],
   "source": [
    "#Se calcula la precisión haciendo uso del conjundo de validación\n",
    "predictions = model.predict(X_validation)\n",
    "print(accuracy_score(Y_validation, predictions))"
   ]
  },
  {
   "cell_type": "markdown",
   "metadata": {},
   "source": [
    "## Reporte de Resultados"
   ]
  },
  {
   "cell_type": "code",
   "execution_count": null,
   "metadata": {},
   "outputs": [],
   "source": [
    "#Mostramos la matriz de confusión\n",
    "#En este caso predijo 3 usuarios que eran Mac como usuarios de Windows \n",
    "#y predijo a 2 usuarios Linux que realmente eran de Windows. \n",
    "print(confusion_matrix(Y_validation, predictions))\n",
    "\n"
   ]
  },
  {
   "cell_type": "markdown",
   "metadata": {},
   "source": [
    "# Matriz de Confusión\n",
    "\n",
    "||Windows|Linux|Mac|\n",
    "|------|------|---------|------:|\n",
    "|Windows|Verdadero|Falso|Falso|\n",
    "|Linux|Falso|Verdadero|Falso|\n",
    "|Mac|Falso|Falso|Verdadero|"
   ]
  },
  {
   "cell_type": "markdown",
   "metadata": {},
   "source": [
    "# Clasificación de nuevos registros"
   ]
  },
  {
   "cell_type": "code",
   "execution_count": null,
   "metadata": {},
   "outputs": [],
   "source": [
    "# con el modelo ya entrenado clasificamos a un usuario con las siguientes características:\n",
    "X_new = pd.DataFrame({'duracion': [2], 'paginas': [10], 'acciones': [1], 'valor': [8]})\n",
    "model.predict(X_new)"
   ]
  },
  {
   "cell_type": "code",
   "execution_count": null,
   "metadata": {},
   "outputs": [],
   "source": []
  }
 ],
 "metadata": {
  "kernelspec": {
   "display_name": "Python 3",
   "language": "python",
   "name": "python3"
  },
  "language_info": {
   "codemirror_mode": {
    "name": "ipython",
    "version": 3
   },
   "file_extension": ".py",
   "mimetype": "text/x-python",
   "name": "python",
   "nbconvert_exporter": "python",
   "pygments_lexer": "ipython3",
   "version": "3.6.6"
  }
 },
 "nbformat": 4,
 "nbformat_minor": 2
}
