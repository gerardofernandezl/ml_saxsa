{
 "cells": [
  {
   "cell_type": "markdown",
   "metadata": {},
   "source": [
    "# DBSCAN\n",
    "## ¿Qué es?\n",
    "** D ** ensity ** B ** ased ** S ** patial ** C ** lustering of ** A ** pplications with ** N ** oise  ** DBSCAN**  es un algoritmo no supervisado de clasificación.\n",
    "\n",
    "El algoritomo ofrece una clasificación (agrupación ó clustering) a partir de las propiedades (similaridad) de los datos.  \n",
    "\n",
    "El algoritmo DBSCAN clasificará a partir de la densidad, es decir,  de cuántos elementos hay en una región. \n",
    "\n",
    "## ¿Cómo funciona? \n",
    "Primero se eligen sólo dos parámetros: \n",
    "- **Epsilon ( ε )** : Distancia máxima entre los puntos \n",
    "- **minPoints** : Mínimo de puntos requeridos para considerar una región densa. \n",
    "\n",
    "### Algunas definiciones\n",
    "- **Vecindad de un punto A**: Disco (​n-esfera​) centrado en el punto A con radio Epsilon.  \n",
    "- ** Densidad del punto A**: Cantidad de puntos dentro de la vecindad de A. \n",
    "- **Puntos de Ruido**:  Puntos que no están dentro de ningún cluster. \n",
    "\n",
    "## Procedimiento:\n",
    "- Se empieza con un punto arbitrario y se crea su vecindad.  \n",
    "- Se hace lo mismo para todos los puntos que están dentro de su vecindad.  \n",
    "- Si el número de puntos dentro de todas las vecindades es mayor a minPoints, entonces a todos ellos son parte de un mismo  cluster. En caso contrario, todos esos puntos se consideran puntos ruido.  \n",
    "- Se toma otro punto arbitrario fuera del cluster y se repite el proceso.\n",
    "\n",
    " <img src=\"dbscan1.png\"/>\n",
    "\n",
    "## Ventajas  \n",
    "- A diferencia del algoritmo K-means, no debemos especificar el número de clusters que queremos, es decir, el algoritmo los encuentra por nosotros. \n",
    " \n",
    "- Sólo se necesitan dos parámetros lo cual lo hace fácil de usar. \n",
    " \n",
    "- También podemos encontrar clusters con formas geométricas arbitrarias.  \n",
    " \n",
    "- Podemos decidir cuántos elementos tendrán los clusters.  \n",
    "\n",
    "\n"
   ]
  },
  {
   "cell_type": "code",
   "execution_count": null,
   "metadata": {},
   "outputs": [],
   "source": [
    "#Importar bibliotecas\n",
    "from sklearn.cluster import DBSCAN\n",
    "#from sklearn import metrics\n",
    "from sklearn.datasets.samples_generator import make_blobs\n",
    "from sklearn.preprocessing import StandardScaler\n",
    "%matplotlib inline\n",
    "import matplotlib.pyplot as plt\n",
    "import numpy as np\n"
   ]
  },
  {
   "cell_type": "code",
   "execution_count": null,
   "metadata": {},
   "outputs": [],
   "source": [
    "# Generar datos de muestra\n",
    "centers = [[0, -2], [-1, -1], [1, -1]]\n",
    "X, labels_true = make_blobs(n_samples=750, centers=centers, cluster_std=0.4,\n",
    "                            random_state=0)\n",
    "\n",
    "X = StandardScaler().fit_transform(X)"
   ]
  },
  {
   "cell_type": "code",
   "execution_count": null,
   "metadata": {},
   "outputs": [],
   "source": [
    "#Datos generados\n",
    "X"
   ]
  },
  {
   "cell_type": "code",
   "execution_count": null,
   "metadata": {},
   "outputs": [],
   "source": [
    "#Gráficar datos\n",
    "\n",
    "fig = plt.figure()\n",
    "fig.suptitle('Visualización gráfica de los datos')\n",
    "ax = fig.add_subplot(1,1,1)\n",
    "ax.set_xlabel('X')\n",
    "ax.set_ylabel('Y')\n",
    "ax.scatter(X[:,0],X[:,1])\n",
    "plt.show()"
   ]
  },
  {
   "cell_type": "code",
   "execution_count": null,
   "metadata": {},
   "outputs": [],
   "source": [
    "# Implementar DBSCAN\n",
    "#Pasamos como parámetros epsilon y el mínimo de puntos en cada vecindad.\n",
    "db = DBSCAN(eps=.3, min_samples=25).fit(X) \n"
   ]
  },
  {
   "cell_type": "code",
   "execution_count": null,
   "metadata": {},
   "outputs": [],
   "source": [
    "#Obtenemos las etiquetas de los clústers resultantes\n",
    "#Los datos que resultaron ser ruido son etiquetados en el clúster -1\n",
    "labels = db.labels_\n",
    "labels"
   ]
  },
  {
   "cell_type": "code",
   "execution_count": null,
   "metadata": {},
   "outputs": [],
   "source": [
    "# Gráfica\n",
    "core_samples_mask = np.zeros_like(db.labels_, dtype=bool)\n",
    "core_samples_mask[db.core_sample_indices_] = True\n",
    "n_clusters_ = len(set(labels)) - (1 if -1 in labels else 0)\n",
    "\n",
    "unique_labels = set(labels)\n",
    "colors = [plt.cm.Spectral(each)\n",
    "          for each in np.linspace(0, 1, len(unique_labels))]\n",
    "for k, col in zip(unique_labels, colors):\n",
    "    if k == -1:\n",
    "        #se colorean los puntos ruido de negro \n",
    "    \n",
    "        col = [0, 0, 0, 1]\n",
    "\n",
    "    class_member_mask = (labels == k)\n",
    "\n",
    "    xy = X[class_member_mask & core_samples_mask]\n",
    "    plt.plot(xy[:, 0], xy[:, 1], 'o', markerfacecolor=tuple(col),\n",
    "             markeredgecolor='k', markersize=14)\n",
    "\n",
    "    xy = X[class_member_mask & ~core_samples_mask]\n",
    "    plt.plot(xy[:, 0], xy[:, 1], 'o', markerfacecolor=tuple(col),\n",
    "             markeredgecolor='k', markersize=6)\n",
    "\n",
    "plt.title('Número estimado de clústers: %d' % n_clusters_)\n",
    "plt.show()"
   ]
  }
 ],
 "metadata": {
  "kernelspec": {
   "display_name": "Python 3",
   "language": "python",
   "name": "python3"
  },
  "language_info": {
   "codemirror_mode": {
    "name": "ipython",
    "version": 3
   },
   "file_extension": ".py",
   "mimetype": "text/x-python",
   "name": "python",
   "nbconvert_exporter": "python",
   "pygments_lexer": "ipython3",
   "version": "3.6.6"
  }
 },
 "nbformat": 4,
 "nbformat_minor": 2
}
