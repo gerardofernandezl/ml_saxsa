{
 "cells": [
  {
   "cell_type": "code",
   "execution_count": 1,
   "metadata": {},
   "outputs": [
    {
     "name": "stderr",
     "output_type": "stream",
     "text": [
      "put: `/Food_Inspections1.csv': File exists\n",
      "put: `/Food_Inspections2.csv': File exists\n"
     ]
    }
   ],
   "source": [
    "%%bash\n",
    "hdfs dfs -put Food_Inspections1.csv Food_Inspections2.csv /"
   ]
  },
  {
   "cell_type": "code",
   "execution_count": 2,
   "metadata": {},
   "outputs": [
    {
     "name": "stdout",
     "output_type": "stream",
     "text": [
      "Starting Spark application\n"
     ]
    },
    {
     "data": {
      "text/html": [
       "<table>\n",
       "<tr><th>ID</th><th>YARN Application ID</th><th>Kind</th><th>State</th><th>Spark UI</th><th>Driver log</th><th>Current session?</th></tr><tr><td>0</td><td>None</td><td>pyspark3</td><td>idle</td><td></td><td></td><td>✔</td></tr></table>"
      ],
      "text/plain": [
       "<IPython.core.display.HTML object>"
      ]
     },
     "metadata": {},
     "output_type": "display_data"
    },
    {
     "name": "stdout",
     "output_type": "stream",
     "text": [
      "SparkSession available as 'spark'.\n"
     ]
    }
   ],
   "source": [
    "from pyspark.ml import Pipeline\n",
    "from pyspark.ml.classification import LogisticRegression\n",
    "from pyspark.ml.feature import HashingTF, Tokenizer\n",
    "from pyspark.sql import Row\n",
    "from pyspark.sql.functions import UserDefinedFunction\n",
    "from pyspark.sql.types import *"
   ]
  },
  {
   "cell_type": "code",
   "execution_count": 3,
   "metadata": {},
   "outputs": [],
   "source": [
    "def csvParse(s):\n",
    "    import csv\n",
    "    import io\n",
    "    sio = io.StringIO(s)\n",
    "    value = csv.reader(sio).__next__()\n",
    "    sio.close()\n",
    "    return value\n",
    "\n",
    "inspections = sc.textFile('/Food_Inspections1.csv').map(csvParse)"
   ]
  },
  {
   "cell_type": "code",
   "execution_count": 4,
   "metadata": {},
   "outputs": [
    {
     "name": "stdout",
     "output_type": "stream",
     "text": [
      "[['413707', 'LUNA PARK INC', 'LUNA PARK  DAY CARE', '2049789', \"Children's Services Facility\", 'Risk 1 (High)', '3250 W FOSTER AVE ', 'CHICAGO', 'IL', '60625', '09/21/2010', 'License-Task Force', 'Fail', '24. DISH WASHING FACILITIES: PROPERLY DESIGNED, CONSTRUCTED, MAINTAINED, INSTALLED, LOCATED AND OPERATED - Comments: All dishwashing machines must be of a type that complies with all requirements of the plumbing section of the Municipal Code of Chicago and Rules and Regulation of the Board of Health. OBSEVERD THE 3 COMPARTMENT SINK BACKING UP INTO THE 1ST AND 2ND COMPARTMENT WITH CLEAR WATER AND SLOWLY DRAINING OUT. INST NEED HAVE IT REPAIR. CITATION ISSUED, SERIOUS VIOLATION 7-38-030 H000062369-10 COURT DATE 10-28-10 TIME 1 P.M. ROOM 107 400 W. SURPERIOR. | 36. LIGHTING: REQUIRED MINIMUM FOOT-CANDLES OF LIGHT PROVIDED, FIXTURES SHIELDED - Comments: Shielding to protect against broken glass falling into food shall be provided for all artificial lighting sources in preparation, service, and display facilities. LIGHT SHIELD ARE MISSING UNDER HOOD OF  COOKING EQUIPMENT AND NEED TO REPLACE LIGHT UNDER UNIT. 4 LIGHTS ARE OUT IN THE REAR CHILDREN AREA,IN THE KINDERGARDEN CLASS ROOM. 2 LIGHT ARE OUT EAST REAR, LIGHT FRONT WEST ROOM. NEED TO REPLACE ALL LIGHT THAT ARE NOT WORKING. | 35. WALLS, CEILINGS, ATTACHED EQUIPMENT CONSTRUCTED PER CODE: GOOD REPAIR, SURFACES CLEAN AND DUST-LESS CLEANING METHODS - Comments: The walls and ceilings shall be in good repair and easily cleaned. MISSING CEILING TILES WITH STAINS IN WEST,EAST, IN FRONT AREA WEST, AND BY THE 15MOS AREA. NEED TO BE REPLACED. | 32. FOOD AND NON-FOOD CONTACT SURFACES PROPERLY DESIGNED, CONSTRUCTED AND MAINTAINED - Comments: All food and non-food contact equipment and utensils shall be smooth, easily cleanable, and durable, and shall be in good repair. SPLASH GUARDED ARE NEEDED BY THE EXPOSED HAND SINK IN THE KITCHEN AREA | 34. FLOORS: CONSTRUCTED PER CODE, CLEANED, GOOD REPAIR, COVING INSTALLED, DUST-LESS CLEANING METHODS USED - Comments: The floors shall be constructed per code, be smooth and easily cleaned, and be kept clean and in good repair. INST NEED TO ELEVATE ALL FOOD ITEMS 6INCH OFF THE FLOOR 6 INCH AWAY FORM WALL.  ', '41.97583445690982', '-87.7107455232781', '(41.97583445690982, -87.7107455232781)']]"
     ]
    }
   ],
   "source": [
    "inspections.take(1)"
   ]
  },
  {
   "cell_type": "code",
   "execution_count": 5,
   "metadata": {},
   "outputs": [],
   "source": [
    "schema = StructType([StructField(\"id\", IntegerType(), False), \n",
    "                     StructField(\"name\", StringType(), False), \n",
    "                     StructField(\"results\", StringType(), False), \n",
    "                     StructField(\"violations\", StringType(), True)])\n",
    "\n",
    "df = spark.createDataFrame(inspections.map(lambda l: (int(l[0]), l[1], l[12], l[13])) , schema)\n",
    "df.createOrReplaceTempView('CountResults')"
   ]
  },
  {
   "cell_type": "code",
   "execution_count": 6,
   "metadata": {},
   "outputs": [
    {
     "name": "stdout",
     "output_type": "stream",
     "text": [
      "+------+--------------------+-------+--------------------+\n",
      "|    id|                name|results|          violations|\n",
      "+------+--------------------+-------+--------------------+\n",
      "|413707|       LUNA PARK INC|   Fail|24. DISH WASHING ...|\n",
      "|391234|       CAFE SELMARIE|   Fail|2. FACILITIES TO ...|\n",
      "|413751|          MANCHU WOK|   Pass|33. FOOD AND NON-...|\n",
      "|413708|BENCHMARK HOSPITA...|   Pass|                    |\n",
      "|413722|           JJ BURGER|   Pass|                    |\n",
      "+------+--------------------+-------+--------------------+\n",
      "only showing top 5 rows"
     ]
    }
   ],
   "source": [
    "df.show(5)"
   ]
  },
  {
   "cell_type": "code",
   "execution_count": 7,
   "metadata": {},
   "outputs": [
    {
     "name": "stdout",
     "output_type": "stream",
     "text": [
      "+--------------------+\n",
      "|             results|\n",
      "+--------------------+\n",
      "|                Fail|\n",
      "|Business Not Located|\n",
      "|  Pass w/ Conditions|\n",
      "|     Out of Business|\n",
      "|                Pass|\n",
      "+--------------------+"
     ]
    }
   ],
   "source": [
    "df.select('results').distinct().show()"
   ]
  },
  {
   "cell_type": "code",
   "execution_count": 8,
   "metadata": {},
   "outputs": [
    {
     "data": {
      "application/vnd.jupyter.widget-view+json": {
       "model_id": "c5ba23cff80e4bfa8d35a9d0426732f6",
       "version_major": 2,
       "version_minor": 0
      },
      "text/plain": [
       "VBox(children=(HBox(children=(HTML(value='Type:'), Button(description='Table', layout=Layout(width='70px'), st…"
      ]
     },
     "metadata": {},
     "output_type": "display_data"
    },
    {
     "data": {
      "application/vnd.jupyter.widget-view+json": {
       "model_id": "761cae7713ae404098ba6de65126df15",
       "version_major": 2,
       "version_minor": 0
      },
      "text/plain": [
       "Output()"
      ]
     },
     "metadata": {},
     "output_type": "display_data"
    }
   ],
   "source": [
    "%%sql -o count_results_df\n",
    "SELECT results, COUNT(results) AS cnt FROM CountResults GROUP BY results"
   ]
  },
  {
   "cell_type": "code",
   "execution_count": 9,
   "metadata": {},
   "outputs": [
    {
     "data": {
      "text/plain": [
       "(-1.112537354338346,\n",
       " 1.1005970237733604,\n",
       " -1.1077229124950763,\n",
       " 1.1033458002044265)"
      ]
     },
     "execution_count": 9,
     "metadata": {},
     "output_type": "execute_result"
    },
    {
     "data": {
      "image/png": "[encoded data removed]",
      "text/plain": [
       "<Figure size 432x288 with 1 Axes>"
      ]
     },
     "metadata": {},
     "output_type": "display_data"
    }
   ],
   "source": [
    "%%local\n",
    "%matplotlib inline\n",
    "import matplotlib.pyplot as plt\n",
    "\n",
    "\n",
    "labels = count_results_df['results']\n",
    "sizes = count_results_df['cnt']\n",
    "colors = ['turquoise', 'seagreen', 'mediumslateblue', 'palegreen', 'coral']\n",
    "plt.pie(sizes, labels=labels, autopct='%1.1f%%', colors=colors)\n",
    "plt.axis('equal')"
   ]
  },
  {
   "cell_type": "code",
   "execution_count": 10,
   "metadata": {},
   "outputs": [],
   "source": [
    "def labelForResults(s):\n",
    "    if s == 'Fail':\n",
    "        return 0.0\n",
    "    elif s == 'Pass w/ Conditions' or s == 'Pass':\n",
    "        return 1.0\n",
    "    else:\n",
    "        return -1.0\n",
    "label = UserDefinedFunction(labelForResults, DoubleType())\n",
    "labeledData = df.select(label(df.results).alias('label'), df.violations).where('label >= 0')"
   ]
  },
  {
   "cell_type": "code",
   "execution_count": 11,
   "metadata": {},
   "outputs": [
    {
     "name": "stdout",
     "output_type": "stream",
     "text": [
      "[Row(label=0.0, violations='24. DISH WASHING FACILITIES: PROPERLY DESIGNED, CONSTRUCTED, MAINTAINED, INSTALLED, LOCATED AND OPERATED - Comments: All dishwashing machines must be of a type that complies with all requirements of the plumbing section of the Municipal Code of Chicago and Rules and Regulation of the Board of Health. OBSEVERD THE 3 COMPARTMENT SINK BACKING UP INTO THE 1ST AND 2ND COMPARTMENT WITH CLEAR WATER AND SLOWLY DRAINING OUT. INST NEED HAVE IT REPAIR. CITATION ISSUED, SERIOUS VIOLATION 7-38-030 H000062369-10 COURT DATE 10-28-10 TIME 1 P.M. ROOM 107 400 W. SURPERIOR. | 36. LIGHTING: REQUIRED MINIMUM FOOT-CANDLES OF LIGHT PROVIDED, FIXTURES SHIELDED - Comments: Shielding to protect against broken glass falling into food shall be provided for all artificial lighting sources in preparation, service, and display facilities. LIGHT SHIELD ARE MISSING UNDER HOOD OF  COOKING EQUIPMENT AND NEED TO REPLACE LIGHT UNDER UNIT. 4 LIGHTS ARE OUT IN THE REAR CHILDREN AREA,IN THE KINDERGARDEN CLASS ROOM. 2 LIGHT ARE OUT EAST REAR, LIGHT FRONT WEST ROOM. NEED TO REPLACE ALL LIGHT THAT ARE NOT WORKING. | 35. WALLS, CEILINGS, ATTACHED EQUIPMENT CONSTRUCTED PER CODE: GOOD REPAIR, SURFACES CLEAN AND DUST-LESS CLEANING METHODS - Comments: The walls and ceilings shall be in good repair and easily cleaned. MISSING CEILING TILES WITH STAINS IN WEST,EAST, IN FRONT AREA WEST, AND BY THE 15MOS AREA. NEED TO BE REPLACED. | 32. FOOD AND NON-FOOD CONTACT SURFACES PROPERLY DESIGNED, CONSTRUCTED AND MAINTAINED - Comments: All food and non-food contact equipment and utensils shall be smooth, easily cleanable, and durable, and shall be in good repair. SPLASH GUARDED ARE NEEDED BY THE EXPOSED HAND SINK IN THE KITCHEN AREA | 34. FLOORS: CONSTRUCTED PER CODE, CLEANED, GOOD REPAIR, COVING INSTALLED, DUST-LESS CLEANING METHODS USED - Comments: The floors shall be constructed per code, be smooth and easily cleaned, and be kept clean and in good repair. INST NEED TO ELEVATE ALL FOOD ITEMS 6INCH OFF THE FLOOR 6 INCH AWAY FORM WALL.  ')]"
     ]
    }
   ],
   "source": [
    "labeledData.take(1)"
   ]
  },
  {
   "cell_type": "code",
   "execution_count": 12,
   "metadata": {},
   "outputs": [
    {
     "name": "stdout",
     "output_type": "stream",
     "text": [
      "PipelineModel_4d1cb2f6228dac629f82"
     ]
    }
   ],
   "source": [
    "tokenizer = Tokenizer(inputCol=\"violations\", outputCol=\"words\")\n",
    "hashingTF = HashingTF(inputCol=tokenizer.getOutputCol(), outputCol=\"features\")\n",
    "lr = LogisticRegression(maxIter=10, regParam=0.01)\n",
    "pipeline = Pipeline(stages=[tokenizer, hashingTF, lr])\n",
    "\n",
    "model = pipeline.fit(labeledData)\n",
    "model"
   ]
  },
  {
   "cell_type": "code",
   "execution_count": 13,
   "metadata": {},
   "outputs": [
    {
     "name": "stdout",
     "output_type": "stream",
     "text": [
      "['id', 'name', 'results', 'violations', 'words', 'features', 'rawPrediction', 'probability', 'prediction']"
     ]
    }
   ],
   "source": [
    "testData = sc.textFile('/Food_Inspections2.csv')\\\n",
    "             .map(csvParse) \\\n",
    "             .map(lambda l: (int(l[0]), l[1], l[12], l[13]))\n",
    "testDf = spark.createDataFrame(testData, schema).where(\"results = 'Fail' OR results = 'Pass' OR results = 'Pass w/ Conditions'\")\n",
    "predictionsDf = model.transform(testDf)\n",
    "predictionsDf.createOrReplaceTempView('Predictions')\n",
    "predictionsDf.columns"
   ]
  },
  {
   "cell_type": "code",
   "execution_count": 14,
   "metadata": {},
   "outputs": [
    {
     "name": "stdout",
     "output_type": "stream",
     "text": [
      "[Row(id=580320, name=\"COUSIN'S GRILL\", results='Fail', violations='37. TOILET ROOM DOORS SELF CLOSING: DRESSING ROOMS WITH LOCKERS PROVIDED: COMPLETE SEPARATION FROM LIVING/SLEEPING QUARTERS - Comments: INSTRUCTED TO FIX BROKEN SELF CLOSING DEVICE AT WASHROOM DOOR. | 40. REFRIGERATION AND METAL STEM THERMOMETERS PROVIDED AND CONSPICUOUS - Comments: All food establishments that display, prepare, or store potentially hazardous foods shall have calibrated metal stem thermometers, provided and conspicuous, for refrigerated and hot food units.  INSTRUCTED TO PROVIDE THERMOMETTER VISIBLE INSIDE ALL COOLERS. | 36. LIGHTING: REQUIRED MINIMUM FOOT-CANDLES OF LIGHT PROVIDED, FIXTURES SHIELDED - Comments: Shielding to protect against broken glass falling into food shall be provided for all artificial lighting sources in preparation, service, and display facilities.  LIGHTBULBS MUST BE SHIELDED INSIDE HOT HOLDING DISPLAY UNIT OR PROVIDE SHATTERFROOFED LIGHTBULB.   | 18. NO EVIDENCE OF RODENT OR INSECT OUTER OPENINGS PROTECTED/RODENT PROOFED, A WRITTEN LOG SHALL BE MAINTAINED AVAILABLE TO THE INSPECTORS - Comments: All necessary control measures shall be used to effectively minimize or eliminate the presence of rodents, roaches, and other vermin and insects on the premises of all food establishments, in food-transporting vehicles, and in vending machines.  FOUND FRONT ENTRANCE DOOR NOT RODENT PROOFED. NOTED 1/2 INCH GAP/OPENING AT THE BOTTOM DOOR. INSTRUCTED TO RODENT-PROOFED BOTTOM OF THE SAID DOOR. SERIOUS CITATION ISSUED 7-38-020 | 41. PREMISES MAINTAINED FREE OF LITTER, UNNECESSARY ARTICLES, CLEANING  EQUIPMENT PROPERLY STORED - Comments: All parts of the food establishment and all parts of the property used in connection with the operation of the establishment shall be kept neat and clean and should not produce any offensive odors.  INSTRUCTED TO CLEAN AND MAINTAIN REAR OUTSIDE AREA.', words=['37.', 'toilet', 'room', 'doors', 'self', 'closing:', 'dressing', 'rooms', 'with', 'lockers', 'provided:', 'complete', 'separation', 'from', 'living/sleeping', 'quarters', '-', 'comments:', 'instructed', 'to', 'fix', 'broken', 'self', 'closing', 'device', 'at', 'washroom', 'door.', '|', '40.', 'refrigeration', 'and', 'metal', 'stem', 'thermometers', 'provided', 'and', 'conspicuous', '-', 'comments:', 'all', 'food', 'establishments', 'that', 'display,', 'prepare,', 'or', 'store', 'potentially', 'hazardous', 'foods', 'shall', 'have', 'calibrated', 'metal', 'stem', 'thermometers,', 'provided', 'and', 'conspicuous,', 'for', 'refrigerated', 'and', 'hot', 'food', 'units.', '', 'instructed', 'to', 'provide', 'thermometter', 'visible', 'inside', 'all', 'coolers.', '|', '36.', 'lighting:', 'required', 'minimum', 'foot-candles', 'of', 'light', 'provided,', 'fixtures', 'shielded', '-', 'comments:', 'shielding', 'to', 'protect', 'against', 'broken', 'glass', 'falling', 'into', 'food', 'shall', 'be', 'provided', 'for', 'all', 'artificial', 'lighting', 'sources', 'in', 'preparation,', 'service,', 'and', 'display', 'facilities.', '', 'lightbulbs', 'must', 'be', 'shielded', 'inside', 'hot', 'holding', 'display', 'unit', 'or', 'provide', 'shatterfroofed', 'lightbulb.', '', '', '|', '18.', 'no', 'evidence', 'of', 'rodent', 'or', 'insect', 'outer', 'openings', 'protected/rodent', 'proofed,', 'a', 'written', 'log', 'shall', 'be', 'maintained', 'available', 'to', 'the', 'inspectors', '-', 'comments:', 'all', 'necessary', 'control', 'measures', 'shall', 'be', 'used', 'to', 'effectively', 'minimize', 'or', 'eliminate', 'the', 'presence', 'of', 'rodents,', 'roaches,', 'and', 'other', 'vermin', 'and', 'insects', 'on', 'the', 'premises', 'of', 'all', 'food', 'establishments,', 'in', 'food-transporting', 'vehicles,', 'and', 'in', 'vending', 'machines.', '', 'found', 'front', 'entrance', 'door', 'not', 'rodent', 'proofed.', 'noted', '1/2', 'inch', 'gap/opening', 'at', 'the', 'bottom', 'door.', 'instructed', 'to', 'rodent-proofed', 'bottom', 'of', 'the', 'said', 'door.', 'serious', 'citation', 'issued', '7-38-020', '|', '41.', 'premises', 'maintained', 'free', 'of', 'litter,', 'unnecessary', 'articles,', 'cleaning', '', 'equipment', 'properly', 'stored', '-', 'comments:', 'all', 'parts', 'of', 'the', 'food', 'establishment', 'and', 'all', 'parts', 'of', 'the', 'property', 'used', 'in', 'connection', 'with', 'the', 'operation', 'of', 'the', 'establishment', 'shall', 'be', 'kept', 'neat', 'and', 'clean', 'and', 'should', 'not', 'produce', 'any', 'offensive', 'odors.', '', 'instructed', 'to', 'clean', 'and', 'maintain', 'rear', 'outside', 'area.'], features=SparseVector(262144, {1972: 1.0, 2340: 1.0, 2786: 1.0, 3168: 1.0, 4871: 1.0, 5429: 1.0, 6857: 2.0, 7367: 1.0, 7453: 1.0, 8985: 1.0, 9639: 9.0, 10450: 1.0, 13142: 1.0, 13963: 1.0, 14114: 1.0, 14311: 5.0, 14668: 1.0, 14898: 1.0, 15945: 1.0, 16324: 1.0, 16332: 2.0, 18504: 2.0, 20326: 1.0, 20654: 1.0, 21316: 2.0, 27116: 1.0, 27619: 1.0, 29399: 1.0, 32756: 1.0, 33151: 1.0, 34036: 1.0, 39302: 1.0, 39926: 1.0, 40268: 1.0, 40856: 1.0, 42337: 1.0, 42343: 2.0, 43117: 1.0, 43583: 1.0, 45531: 5.0, 47453: 1.0, 47462: 3.0, 48448: 1.0, 48648: 2.0, 48724: 1.0, 50223: 1.0, 53651: 1.0, 56498: 1.0, 59760: 1.0, 63091: 4.0, 67005: 1.0, 67156: 1.0, 68281: 2.0, 68374: 2.0, 69094: 1.0, 74466: 1.0, 74904: 1.0, 80107: 1.0, 81932: 1.0, 83569: 1.0, 84053: 2.0, 85836: 1.0, 87239: 1.0, 88203: 1.0, 90859: 3.0, 91006: 1.0, 91677: 12.0, 92125: 1.0, 92175: 1.0, 96748: 1.0, 97215: 1.0, 97633: 2.0, 99346: 1.0, 99585: 1.0, 100258: 1.0, 100734: 1.0, 101169: 1.0, 102176: 1.0, 103257: 1.0, 103382: 4.0, 103409: 1.0, 103833: 1.0, 103838: 9.0, 104448: 1.0, 105063: 2.0, 105469: 1.0, 105518: 1.0, 107299: 1.0, 108062: 1.0, 110074: 1.0, 118283: 1.0, 119835: 1.0, 120397: 1.0, 120851: 1.0, 121133: 5.0, 123069: 1.0, 124643: 1.0, 126466: 2.0, 130125: 1.0, 135499: 1.0, 135560: 7.0, 138328: 2.0, 139098: 2.0, 143342: 1.0, 145542: 2.0, 145718: 1.0, 145838: 1.0, 152218: 1.0, 154336: 1.0, 156250: 1.0, 156568: 1.0, 157469: 2.0, 158973: 1.0, 159927: 1.0, 161061: 2.0, 162521: 1.0, 164686: 1.0, 164735: 1.0, 166490: 1.0, 167114: 1.0, 167152: 5.0, 168425: 1.0, 168495: 5.0, 168976: 1.0, 172516: 1.0, 174457: 1.0, 176964: 2.0, 177916: 1.0, 178003: 1.0, 179255: 1.0, 184351: 2.0, 185468: 1.0, 187621: 1.0, 187664: 1.0, 193224: 2.0, 194821: 1.0, 195766: 1.0, 198277: 1.0, 200400: 1.0, 205044: 7.0, 207872: 1.0, 212952: 1.0, 214333: 1.0, 216436: 1.0, 217251: 1.0, 217720: 1.0, 222453: 4.0, 223946: 1.0, 227410: 1.0, 227469: 1.0, 229407: 1.0, 232713: 1.0, 233903: 1.0, 237761: 1.0, 238163: 1.0, 240453: 1.0, 241725: 1.0, 243322: 1.0, 245458: 1.0, 247107: 4.0, 247598: 1.0, 248091: 1.0, 249180: 7.0, 252417: 2.0, 253475: 1.0, 253757: 1.0, 254304: 1.0, 256918: 1.0, 257378: 1.0, 258861: 1.0, 259190: 1.0, 259409: 1.0}), rawPrediction=DenseVector([4.4305, -4.4305]), probability=DenseVector([0.9882, 0.0118]), prediction=0.0), Row(id=517290, name='THE GODDARD SCHOOL CHICAGO', results='Pass', violations='', words=[''], features=SparseVector(262144, {249180: 1.0}), rawPrediction=DenseVector([-1.1427, 1.1427]), probability=DenseVector([0.2418, 0.7582]), prediction=1.0)]"
     ]
    }
   ],
   "source": [
    "predictionsDf.take(2)"
   ]
  },
  {
   "cell_type": "code",
   "execution_count": 15,
   "metadata": {},
   "outputs": [
    {
     "name": "stdout",
     "output_type": "stream",
     "text": [
      "There were 9315 inspections and there were 8110 successful predictions\n",
      "This is a 87.06387546967257% success rate"
     ]
    }
   ],
   "source": [
    "numSuccesses = predictionsDf.where(\"\"\"(prediction = 0 AND results = 'Fail') OR \n",
    "                                      (prediction = 1 AND (results = 'Pass' OR \n",
    "                                                           results = 'Pass w/ Conditions'))\"\"\").count()\n",
    "numInspections = predictionsDf.count()\n",
    "\n",
    "print(\"There were\", numInspections, \"inspections and there were\", numSuccesses, \"successful predictions\")\n",
    "print(\"This is a\", str((float(numSuccesses) / float(numInspections)) * 100) + \"%\", \"success rate\")"
   ]
  },
  {
   "cell_type": "code",
   "execution_count": 16,
   "metadata": {},
   "outputs": [],
   "source": [
    "%%sql -q -o true_positive\n",
    "SELECT count(*) AS cnt FROM Predictions WHERE prediction = 0 AND results = 'Fail'"
   ]
  },
  {
   "cell_type": "code",
   "execution_count": 17,
   "metadata": {},
   "outputs": [],
   "source": [
    "%%sql -q -o false_positive\n",
    "SELECT count(*) AS cnt FROM Predictions WHERE prediction = 0 AND (results = 'Pass' OR results = 'Pass w/ Conditions')"
   ]
  },
  {
   "cell_type": "code",
   "execution_count": 18,
   "metadata": {},
   "outputs": [],
   "source": [
    "%%sql -q -o true_negative\n",
    "SELECT count(*) AS cnt FROM Predictions WHERE prediction = 1 AND results = 'Fail'"
   ]
  },
  {
   "cell_type": "code",
   "execution_count": 19,
   "metadata": {},
   "outputs": [],
   "source": [
    "%%sql -q -o false_negative\n",
    "SELECT count(*) AS cnt FROM Predictions WHERE prediction = 1 AND (results = 'Pass' OR results = 'Pass w/ Conditions')"
   ]
  },
  {
   "cell_type": "code",
   "execution_count": 20,
   "metadata": {},
   "outputs": [
    {
     "data": {
      "text/plain": [
       "(-1.119314444065094, 1.100919735431671, -1.118110966682434, 1.1009653329849243)"
      ]
     },
     "execution_count": 20,
     "metadata": {},
     "output_type": "execute_result"
    },
    {
     "data": {
      "image/png": "[encoded data removed]",
      "text/plain": [
       "<Figure size 432x288 with 1 Axes>"
      ]
     },
     "metadata": {},
     "output_type": "display_data"
    }
   ],
   "source": [
    "%%local\n",
    "%matplotlib inline\n",
    "import matplotlib.pyplot as plt\n",
    "\n",
    "labels = ['True positive', 'False positive', 'True negative', 'False negative']\n",
    "sizes = [true_positive['cnt'], false_positive['cnt'], false_negative['cnt'], true_negative['cnt']]\n",
    "colors = ['turquoise', 'seagreen', 'mediumslateblue', 'palegreen', 'coral']\n",
    "plt.pie(sizes, labels=labels, autopct='%1.1f%%', colors=colors)\n",
    "plt.axis('equal')"
   ]
  },
  {
   "cell_type": "code",
   "execution_count": null,
   "metadata": {},
   "outputs": [],
   "source": []
  }
 ],
 "metadata": {
  "kernelspec": {
   "display_name": "PySpark3",
   "language": "",
   "name": "pyspark3kernel"
  },
  "language_info": {
   "codemirror_mode": {
    "name": "python",
    "version": 3
   },
   "mimetype": "text/x-python",
   "name": "pyspark3",
   "pygments_lexer": "python3"
  },
  "widgets": {
   "state": {
    "e47ed82eb7cb4fdaa6e648b6e0205fe8": {
     "views": [
      {
       "cell_index": 6
      }
     ]
    },
    "f16b86160de248dd951912aa7a3e1f82": {
     "views": [
      {
       "cell_index": 6
      }
     ]
    }
   },
   "version": "1.2.0"
  }
 },
 "nbformat": 4,
 "nbformat_minor": 2
}
