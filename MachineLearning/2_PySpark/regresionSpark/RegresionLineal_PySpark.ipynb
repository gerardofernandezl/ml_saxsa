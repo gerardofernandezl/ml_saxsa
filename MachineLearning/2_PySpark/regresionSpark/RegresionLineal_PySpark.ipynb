{
 "cells": [
  {
   "cell_type": "code",
   "execution_count": 1,
   "metadata": {},
   "outputs": [
    {
     "name": "stdout",
     "output_type": "stream",
     "text": [
      "Starting Spark application\n"
     ]
    },
    {
     "data": {
      "text/html": [
       "<table>\n",
       "<tr><th>ID</th><th>YARN Application ID</th><th>Kind</th><th>State</th><th>Spark UI</th><th>Driver log</th><th>Current session?</th></tr><tr><td>2</td><td>None</td><td>pyspark3</td><td>idle</td><td></td><td></td><td>✔</td></tr></table>"
      ],
      "text/plain": [
       "<IPython.core.display.HTML object>"
      ]
     },
     "metadata": {},
     "output_type": "display_data"
    },
    {
     "name": "stdout",
     "output_type": "stream",
     "text": [
      "SparkSession available as 'spark'.\n",
      "<SparkContext master=spark://hostSaxsa:7077 appName=livy-session-2>"
     ]
    }
   ],
   "source": [
    "sc"
   ]
  },
  {
   "cell_type": "code",
   "execution_count": 2,
   "metadata": {},
   "outputs": [],
   "source": [
    "from pyspark.ml.regression import LinearRegression"
   ]
  },
  {
   "cell_type": "code",
   "execution_count": 3,
   "metadata": {},
   "outputs": [],
   "source": [
    "training = spark.read.format(\"libsvm\").load(\"file:///usr/local/spark/data/mllib/sample_linear_regression_data.txt\")"
   ]
  },
  {
   "cell_type": "code",
   "execution_count": 4,
   "metadata": {},
   "outputs": [],
   "source": [
    "lr = LinearRegression(maxIter=10, regParam=0.3, elasticNetParam=0.8)"
   ]
  },
  {
   "cell_type": "code",
   "execution_count": 5,
   "metadata": {},
   "outputs": [],
   "source": [
    "lrModel = lr.fit(training)"
   ]
  },
  {
   "cell_type": "code",
   "execution_count": 6,
   "metadata": {},
   "outputs": [
    {
     "name": "stdout",
     "output_type": "stream",
     "text": [
      "Coefficients: [0.0,0.32292516677405936,-0.3438548034562218,1.9156017023458414,0.05288058680386263,0.765962720459771,0.0,-0.15105392669186682,-0.21587930360904642,0.22025369188813426]"
     ]
    }
   ],
   "source": [
    "print(\"Coefficients: %s\" % str(lrModel.coefficients))"
   ]
  },
  {
   "cell_type": "code",
   "execution_count": 7,
   "metadata": {},
   "outputs": [],
   "source": [
    "trainingSummary = lrModel.summary"
   ]
  },
  {
   "cell_type": "code",
   "execution_count": 8,
   "metadata": {},
   "outputs": [
    {
     "name": "stdout",
     "output_type": "stream",
     "text": [
      "+-------------------+--------------------+--------------------+\n",
      "|              label|            features|          prediction|\n",
      "+-------------------+--------------------+--------------------+\n",
      "| -9.490009878824548|(10,[0,1,2,3,4,5,...| 0.39922280427864854|\n",
      "| 0.2577820163584905|(10,[0,1,2,3,4,5,...|-0.29559741764686487|\n",
      "| -4.438869807456516|(10,[0,1,2,3,4,5,...|  0.7651496483023066|\n",
      "|-19.782762789614537|(10,[0,1,2,3,4,5,...|  0.7839239258929726|\n",
      "| -7.966593841555266|(10,[0,1,2,3,4,5,...|  1.4831466765011345|\n",
      "| -7.896274316726144|(10,[0,1,2,3,4,5,...| -0.9871618140066576|\n",
      "| -8.464803554195287|(10,[0,1,2,3,4,5,...|  1.5395124755034428|\n",
      "| 2.1214592666251364|(10,[0,1,2,3,4,5,...| 0.05906145957465214|\n",
      "| 1.0720117616524107|(10,[0,1,2,3,4,5,...| -2.0397390816430665|\n",
      "|-13.772441561702871|(10,[0,1,2,3,4,5,...|  2.1211666677165093|\n",
      "| -5.082010756207233|(10,[0,1,2,3,4,5,...|-0.04572650153420729|\n",
      "|  7.887786536531237|(10,[0,1,2,3,4,5,...|  1.4045706595369045|\n",
      "| 14.323146365332388|(10,[0,1,2,3,4,5,...|  1.8936490662233862|\n",
      "|-20.057482615789212|(10,[0,1,2,3,4,5,...|  0.2625495742873283|\n",
      "|-0.8995693247765151|(10,[0,1,2,3,4,5,...|  1.1054144970959854|\n",
      "| -19.16829262296376|(10,[0,1,2,3,4,5,...| -1.3003908887799676|\n",
      "|  5.601801561245534|(10,[0,1,2,3,4,5,...| -2.0446543261749612|\n",
      "|-3.2256352187273354|(10,[0,1,2,3,4,5,...|  -0.960287000485595|\n",
      "| 1.5299675726687754|(10,[0,1,2,3,4,5,...|  1.6330567770307318|\n",
      "| -0.250102447941961|(10,[0,1,2,3,4,5,...|  1.1299316224433398|\n",
      "+-------------------+--------------------+--------------------+\n",
      "only showing top 20 rows"
     ]
    }
   ],
   "source": [
    "trainingSummary.predictions.show()"
   ]
  },
  {
   "cell_type": "code",
   "execution_count": 9,
   "metadata": {},
   "outputs": [
    {
     "name": "stdout",
     "output_type": "stream",
     "text": [
      "+--------------------+\n",
      "|           residuals|\n",
      "+--------------------+\n",
      "|  -9.889232683103197|\n",
      "|  0.5533794340053554|\n",
      "|  -5.204019455758823|\n",
      "| -20.566686715507508|\n",
      "|    -9.4497405180564|\n",
      "|  -6.909112502719486|\n",
      "|  -10.00431602969873|\n",
      "|   2.062397807050484|\n",
      "|  3.1117508432954772|\n",
      "| -15.893608229419382|\n",
      "|  -5.036284254673026|\n",
      "|   6.483215876994333|\n",
      "|  12.429497299109002|\n",
      "|  -20.32003219007654|\n",
      "| -2.0049838218725005|\n",
      "| -17.867901734183793|\n",
      "|   7.646455887420495|\n",
      "| -2.2653482182417406|\n",
      "|-0.10308920436195645|\n",
      "|  -1.380034070385301|\n",
      "+--------------------+\n",
      "only showing top 20 rows"
     ]
    }
   ],
   "source": [
    "trainingSummary.residuals.show()"
   ]
  },
  {
   "cell_type": "code",
   "execution_count": 10,
   "metadata": {},
   "outputs": [
    {
     "name": "stdout",
     "output_type": "stream",
     "text": [
      "RMSE: 10.189077"
     ]
    }
   ],
   "source": [
    "print(\"RMSE: %f\" % trainingSummary.rootMeanSquaredError)"
   ]
  },
  {
   "cell_type": "code",
   "execution_count": null,
   "metadata": {},
   "outputs": [],
   "source": []
  },
  {
   "cell_type": "code",
   "execution_count": null,
   "metadata": {},
   "outputs": [],
   "source": []
  },
  {
   "cell_type": "code",
   "execution_count": null,
   "metadata": {},
   "outputs": [],
   "source": []
  }
 ],
 "metadata": {
  "kernelspec": {
   "display_name": "PySpark3",
   "language": "",
   "name": "pyspark3kernel"
  },
  "language_info": {
   "codemirror_mode": {
    "name": "python",
    "version": 3
   },
   "mimetype": "text/x-python",
   "name": "pyspark3",
   "pygments_lexer": "python3"
  }
 },
 "nbformat": 4,
 "nbformat_minor": 2
}
