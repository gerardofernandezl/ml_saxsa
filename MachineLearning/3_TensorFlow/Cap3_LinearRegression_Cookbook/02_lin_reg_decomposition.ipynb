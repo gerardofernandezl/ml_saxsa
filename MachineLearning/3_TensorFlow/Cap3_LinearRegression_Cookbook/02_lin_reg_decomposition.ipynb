{
 "cells": [
  {
   "cell_type": "markdown",
   "metadata": {},
   "source": [
    "# Regresión lineal: utilizando una descomposición (método de Cholesky)\n",
    "--------------------------------\n",
    "\n",
    "Este ejercicio utilizará la función de TensorFlow, `tf.cholesky()` para descomponer nuestra matriz de diseño y resolver la matriz de parámetros de regresión lineal.\n",
    "\n",
    "Para la regresión lineal tenemos el sistema $A \\cdot x = y$.  Aquí, $A$ es nuestra matriz de diseño, $x$ es nuestra matriz de parámetros (de interés), y $y$ es nuestra matriz objetivo (valores dependientes).\n",
    "\n",
    "Para que funcione una descomposición de Cholesky suponemos que $A$ se puede dividir en un producto de una matriz triangular inferior, $L$ y la traspuesta de la misma matriz, $L^{T}$.\n",
    "\n",
    "Note que esto pasa si $A$ es una matriz cuadrada.  Por supuesto, con un sistema sobre determinado, $A$ no es cuadrada. Así que factorizamos el producto $A^{T} \\cdot A$ en su lugar.  Así que asumimos:\n",
    "\n",
    "$$A^{T} \\cdot A = L^{T} \\cdot L$$\n",
    "\n",
    "Para obtener más información sobre la descomposición de Cholesky y sus usos, consulte el siguiente enlace de wikipedia: [The Cholesky Decomposition](https://en.wikipedia.org/wiki/Cholesky_decomposition)\n",
    "\n",
    "Dado que esta $A$ tiene una descomposición de Cholesky única, podemos escribir nuestro sistema de regresión lineal de la siguiente manera:\n",
    "\n",
    "$$ L^{T} \\cdot L \\cdot x = A^{T} \\cdot y $$\n",
    "\n",
    "Luego separamos el sistema de la siguiente manera:\n",
    "\n",
    "$$L^{T} \\cdot z = A^{T} \\cdot y$$\n",
    "\n",
    "y\n",
    "\n",
    "$$L \\cdot x = z$$\n",
    "\n",
    "Los pasos que tomaremos para resolver $ x $ son los siguientes:\n",
    "\n",
    " 1. Calcular la descomposición de Cholesky de $A$, donde $A^{T} \\cdot A = L^{T} \\cdot L$.\n",
    "\n",
    " 2. Resolver ($L^{T} \\cdot z = A^{T} \\cdot y$) para $z$.\n",
    " \n",
    " 3. Finalmente, resolver ($L \\cdot x = z$) para $x$.\n",
    " \n",
    "Comenzamos cargando las bibliotecas necesarias."
   ]
  },
  {
   "cell_type": "code",
   "execution_count": 1,
   "metadata": {},
   "outputs": [],
   "source": [
    "import matplotlib.pyplot as plt\n",
    "import numpy as np\n",
    "import tensorflow as tf\n",
    "from tensorflow.python.framework import ops\n",
    "ops.reset_default_graph()"
   ]
  },
  {
   "cell_type": "markdown",
   "metadata": {},
   "source": [
    "A continuación creamos una sesión del grafo."
   ]
  },
  {
   "cell_type": "code",
   "execution_count": 2,
   "metadata": {},
   "outputs": [],
   "source": [
    "sess = tf.Session()"
   ]
  },
  {
   "cell_type": "markdown",
   "metadata": {},
   "source": [
    "Usamos el mismo método de generar datos que en la receta anterior para la consistencia."
   ]
  },
  {
   "cell_type": "code",
   "execution_count": 3,
   "metadata": {},
   "outputs": [],
   "source": [
    "# Crear los datos\n",
    "x_vals = np.linspace(0, 10, 100)\n",
    "y_vals = x_vals + np.random.normal(0, 1, 100)"
   ]
  },
  {
   "cell_type": "markdown",
   "metadata": {},
   "source": [
    "Generamos la matriz de diseño $A$."
   ]
  },
  {
   "cell_type": "code",
   "execution_count": 4,
   "metadata": {},
   "outputs": [],
   "source": [
    "# Crear la matriz de diseño\n",
    "x_vals_column = np.transpose(np.matrix(x_vals))\n",
    "ones_column = np.transpose(np.matrix(np.repeat(1, 100)))\n",
    "A = np.column_stack((x_vals_column, ones_column))"
   ]
  },
  {
   "cell_type": "markdown",
   "metadata": {},
   "source": [
    "A continuación, generamos el tensor"
   ]
  },
  {
   "cell_type": "code",
   "execution_count": 5,
   "metadata": {},
   "outputs": [],
   "source": [
    "# Crear la matriz y\n",
    "y = np.transpose(np.matrix(y_vals))\n",
    "\n",
    "# Crear los tensores\n",
    "A_tensor = tf.constant(A)\n",
    "y_tensor = tf.constant(y)"
   ]
  },
  {
   "cell_type": "markdown",
   "metadata": {},
   "source": [
    "Ahora calculamos el cuadrado de la matriz $A$ y la descomposición de Cholesky."
   ]
  },
  {
   "cell_type": "code",
   "execution_count": 6,
   "metadata": {},
   "outputs": [],
   "source": [
    "# Encontrar la descomposición de Cholesky\n",
    "tA_A = tf.matmul(tf.transpose(A_tensor), A_tensor)\n",
    "L = tf.cholesky(tA_A)"
   ]
  },
  {
   "cell_type": "markdown",
   "metadata": {},
   "source": [
    "Resolvemos la primera ecuación. (ver paso 2 del párrafo de infroducción de arriba)"
   ]
  },
  {
   "cell_type": "code",
   "execution_count": 7,
   "metadata": {},
   "outputs": [],
   "source": [
    "# Resolver L*y=t(A)*b\n",
    "tA_y = tf.matmul(tf.transpose(A_tensor), y)\n",
    "sol1 = tf.matrix_solve(L, tA_y)"
   ]
  },
  {
   "cell_type": "markdown",
   "metadata": {},
   "source": [
    "Finalmente resolvemos la matriz de parámetros resolviendo la segunda ecuación (ver paso 3 del párrafo de infroducción de arriba)."
   ]
  },
  {
   "cell_type": "code",
   "execution_count": 8,
   "metadata": {},
   "outputs": [],
   "source": [
    "# Resolver L' * y = sol1\n",
    "sol2 = tf.matrix_solve(tf.transpose(L), sol1)\n",
    "\n",
    "solution_eval = sess.run(sol2)"
   ]
  },
  {
   "cell_type": "markdown",
   "metadata": {},
   "source": [
    "Extract the coefficients and create the best fit line."
   ]
  },
  {
   "cell_type": "code",
   "execution_count": 9,
   "metadata": {},
   "outputs": [
    {
     "name": "stdout",
     "output_type": "stream",
     "text": [
      "slope: 1.019077111135268\n",
      "y_intercept: -0.05906650417529878\n"
     ]
    }
   ],
   "source": [
    "# Extraer los coeficientes\n",
    "slope = solution_eval[0][0]\n",
    "y_intercept = solution_eval[1][0]\n",
    "\n",
    "print('slope: ' + str(slope))\n",
    "print('y_intercept: ' + str(y_intercept))\n",
    "\n",
    "# Obtener la mejor línea de ajuste\n",
    "best_fit = []\n",
    "for i in x_vals:\n",
    "  best_fit.append(slope*i+y_intercept)"
   ]
  },
  {
   "cell_type": "markdown",
   "metadata": {},
   "source": [
    "Finalmente, trazamos el ajuste con Matplotlib."
   ]
  },
  {
   "cell_type": "code",
   "execution_count": 10,
   "metadata": {},
   "outputs": [
    {
     "data": {
      "image/png": "[encoded data removed]",
      "text/plain": [
       "<Figure size 432x288 with 1 Axes>"
      ]
     },
     "metadata": {},
     "output_type": "display_data"
    }
   ],
   "source": [
    "# Plot the results\n",
    "plt.plot(x_vals, y_vals, 'o', label='Data')\n",
    "plt.plot(x_vals, best_fit, 'r-', label='Best fit line', linewidth=3)\n",
    "plt.legend(loc='upper left')\n",
    "plt.show()"
   ]
  }
 ],
 "metadata": {
  "kernelspec": {
   "display_name": "Python 3",
   "language": "python",
   "name": "python3"
  },
  "language_info": {
   "codemirror_mode": {
    "name": "ipython",
    "version": 3
   },
   "file_extension": ".py",
   "mimetype": "text/x-python",
   "name": "python",
   "nbconvert_exporter": "python",
   "pygments_lexer": "ipython3",
   "version": "3.6.6"
  }
 },
 "nbformat": 4,
 "nbformat_minor": 2
}
