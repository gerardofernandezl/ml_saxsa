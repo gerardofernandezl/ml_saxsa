{
 "cells": [
  {
   "cell_type": "markdown",
   "metadata": {},
   "source": [
    "# Regresión Lineal: Método de la Matriz Inversa\n",
    "\n",
    "Este ejercicio explora cómo realizar una regresión lineal con TensorFlow utilizando la matriz inversa.\n",
    "\n",
    "Dado el sistema $ A \\cdot x = y $, la forma inversa de matriz de regresión lineal (ecuaciones para sistemas sobredeterminados) se da resolviendo para x de la siguiente manera.\n",
    "\n",
    "$$x = \\left( A^{T} \\cdot A \\right)^{-1} \\cdot A^{T} \\cdot y$$\n",
    "\n",
    "Como recordatorio, aquí, $x$ es nuestra matriz de parámetros (vector de longitud $F+1$, donde $F$ es el número de características). Aquí, $A$, nuestro diseño de la matriz toma forma.\n",
    "\n",
    "$$\n",
    "A=\n",
    "\\begin{bmatrix}\n",
    "    1 & x_{11} & x_{12} & \\dots  & x_{1F} \\\\\n",
    "    1 & x_{21} & x_{22} & \\dots  & x_{2F} \\\\\n",
    "    \\vdots & \\vdots & \\vdots & \\ddots & \\vdots \\\\\n",
    "    1 & x_{n1} & x_{n2} & \\dots  & x_{nF}\n",
    "\\end{bmatrix}\n",
    "$$\n",
    "\n",
    "Donde $F$ es el número de características independientes, y $n$ es el número de puntos. Para un sistema sobredeterminado, $n>F$. Recuerde que un punto observado en nuestro sistema tendrá una longitud de $F+1$ y el punto $i^{th}$ se verá como\n",
    "\n",
    "$$point_{i} = \\left( y_{i}, x_{i1}, x_{i2}, \\dots, x_{iF} \\right)$$\n",
    "\n",
    "Para esta receta, consideraremos solo un sistema bidimensional ($F=1$), sde modo que podamos trazar los resultados al final.\n",
    "\n",
    "Comenzamos cargando las bibliotecas necesarias."
   ]
  },
  {
   "cell_type": "code",
   "execution_count": 1,
   "metadata": {},
   "outputs": [],
   "source": [
    "import matplotlib.pyplot as plt\n",
    "import numpy as np\n",
    "import tensorflow as tf\n",
    "from tensorflow.python.framework import ops\n",
    "ops.reset_default_graph()"
   ]
  },
  {
   "cell_type": "markdown",
   "metadata": {},
   "source": [
    "A continuación comenzamos una sesión del grafo."
   ]
  },
  {
   "cell_type": "code",
   "execution_count": 2,
   "metadata": {},
   "outputs": [],
   "source": [
    "sess = tf.Session()"
   ]
  },
  {
   "cell_type": "markdown",
   "metadata": {},
   "source": [
    "Para fines de ilustración, generamos datos al azar para ajustar.\n",
    "\n",
    "Los valores de x serán una secuencia de 100 valores espaciados uniformemente entre 0 y 100.\n",
    "\n",
    "Los valores de y se ajustarán a la línea: $y=x$, pero agregaremos un error normalmente distribuido de acuerdo con $N(0,1)$."
   ]
  },
  {
   "cell_type": "code",
   "execution_count": 3,
   "metadata": {},
   "outputs": [],
   "source": [
    "# Crear los datos\n",
    "x_vals = np.linspace(0, 10, 100)\n",
    "y_vals = x_vals + np.random.normal(0, 1, 100)"
   ]
  },
  {
   "cell_type": "markdown",
   "metadata": {},
   "source": [
    "Creamos la matriz de diseño $A$, que será una columna de unos y los valores de x."
   ]
  },
  {
   "cell_type": "code",
   "execution_count": 4,
   "metadata": {},
   "outputs": [],
   "source": [
    "# Crear matriz de diseño\n",
    "x_vals_column = np.transpose(np.matrix(x_vals))\n",
    "ones_column = np.transpose(np.matrix(np.repeat(1, 100)))\n",
    "A = np.column_stack((x_vals_column, ones_column))"
   ]
  },
  {
   "cell_type": "markdown",
   "metadata": {},
   "source": [
    "Ahora creamos los valores de y como una matriz con Numpy.\n",
    "\n",
    "Una vez que tenemos los valores de y y la matriz de diseño, creamos tensores a partir de ellos."
   ]
  },
  {
   "cell_type": "code",
   "execution_count": 5,
   "metadata": {},
   "outputs": [],
   "source": [
    "# Format the y matrix\n",
    "y = np.transpose(np.matrix(y_vals))\n",
    "\n",
    "# Create tensors\n",
    "A_tensor = tf.constant(A)\n",
    "y_tensor = tf.constant(y)"
   ]
  },
  {
   "cell_type": "markdown",
   "metadata": {},
   "source": [
    "Ahora resolvemos la matriz de parámetros con operaciones TensorFlow."
   ]
  },
  {
   "cell_type": "code",
   "execution_count": 6,
   "metadata": {},
   "outputs": [],
   "source": [
    "# Matrix inverse solution\n",
    "tA_A = tf.matmul(tf.transpose(A_tensor), A_tensor)\n",
    "tA_A_inv = tf.matrix_inverse(tA_A)\n",
    "product = tf.matmul(tA_A_inv, tf.transpose(A_tensor))\n",
    "solution = tf.matmul(product, y_tensor)"
   ]
  },
  {
   "cell_type": "markdown",
   "metadata": {},
   "source": [
    "Ejecute las soluciones y extraiga la pendiente y la intersección de la matriz de parámetros."
   ]
  },
  {
   "cell_type": "code",
   "execution_count": 7,
   "metadata": {},
   "outputs": [],
   "source": [
    "solution_eval = sess.run(solution)\n",
    "\n",
    "# Extract coefficients\n",
    "slope = solution_eval[0][0]\n",
    "y_intercept = solution_eval[1][0]"
   ]
  },
  {
   "cell_type": "markdown",
   "metadata": {},
   "source": [
    "Ahora imprimimos la solución que encontramos y creamos una línea de mejor ajuste."
   ]
  },
  {
   "cell_type": "code",
   "execution_count": 8,
   "metadata": {},
   "outputs": [
    {
     "name": "stdout",
     "output_type": "stream",
     "text": [
      "slope: 0.9957482715636298\n",
      "y_intercept: 0.13630601276318063\n"
     ]
    }
   ],
   "source": [
    "print('slope: ' + str(slope))\n",
    "print('y_intercept: ' + str(y_intercept))\n",
    "\n",
    "# Get best fit line\n",
    "best_fit = []\n",
    "for i in x_vals:\n",
    "  best_fit.append(slope*i+y_intercept)"
   ]
  },
  {
   "cell_type": "markdown",
   "metadata": {},
   "source": [
    "Usamos Matplotlib para trazar los resultados."
   ]
  },
  {
   "cell_type": "code",
   "execution_count": 9,
   "metadata": {},
   "outputs": [
    {
     "data": {
      "image/png": "[encoded data removed]",
      "text/plain": [
       "<Figure size 432x288 with 1 Axes>"
      ]
     },
     "metadata": {},
     "output_type": "display_data"
    }
   ],
   "source": [
    "# Plot the results\n",
    "plt.plot(x_vals, y_vals, 'o', label='Data')\n",
    "plt.plot(x_vals, best_fit, 'r-', label='Best fit line', linewidth=3)\n",
    "plt.legend(loc='upper left')\n",
    "plt.show()"
   ]
  }
 ],
 "metadata": {
  "kernelspec": {
   "display_name": "Python 3",
   "language": "python",
   "name": "python3"
  },
  "language_info": {
   "codemirror_mode": {
    "name": "ipython",
    "version": 3
   },
   "file_extension": ".py",
   "mimetype": "text/x-python",
   "name": "python",
   "nbconvert_exporter": "python",
   "pygments_lexer": "ipython3",
   "version": "3.6.6"
  }
 },
 "nbformat": 4,
 "nbformat_minor": 2
}
